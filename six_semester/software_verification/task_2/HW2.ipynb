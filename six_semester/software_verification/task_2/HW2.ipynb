{
 "cells": [
  {
   "cell_type": "markdown",
   "metadata": {
    "id": "Y7m1EiJdz3Wk"
   },
   "source": [
    "# HW 2: Program Graph $\\rightarrow$ Transition System\n",
    "\n",
    "In this exercise, we will implement the formal concept of a Program Graph (PG) as we defined in class using Python classes. We will also implement the `to_transition_system()` method to convert a program graph into a transition system.\n"
   ]
  },
  {
   "cell_type": "code",
   "execution_count": 2,
   "metadata": {
    "ExecuteTime": {
     "end_time": "2025-03-31T11:02:11.675917Z",
     "start_time": "2025-03-31T11:02:10.983418Z"
    }
   },
   "outputs": [],
   "source": [
    "import sys\n",
    "import otter\n",
    "# try:\n",
    "#   import otter\n",
    "# except ImportError:\n",
    "#     %pip install otter-grader\n",
    "#     import otter\n",
    "\n",
    "grader = otter.Notebook(\"HW2.ipynb\")"
   ]
  },
  {
   "cell_type": "markdown",
   "metadata": {
    "deletable": false,
    "editable": false,
    "id": "TI1jvGE6vzP4"
   },
   "source": [
    "## Challenge 1: Implementing the `ProgramGraph` class"
   ]
  },
  {
   "cell_type": "markdown",
   "metadata": {
    "deletable": false,
    "editable": false
   },
   "source": [
    "### **Formal Definition**\n",
    "A **Program Graph** (PG) is a tuple: $(Loc, Act, Effect, \\rightarrow, Loc_0, g_0)$\n",
    "where:\n",
    "- $Loc$ is a finite set of program locations (control points).\n",
    "- $Act$ is a set of actions (instructions that modify variables).\n",
    "- $Effect$ is a function that applies an action to an environment and produces a new environment.\n",
    "- $Transitions \\subseteq Loc \\times Cond \\times Act \\times Loc$ is a set of edges where:\n",
    "    - $Cond$ is a condition that must hold for the transition.\n",
    "    - $Act$ is the action that modifies the variables.\n",
    "    - The edge represents moving from an **old location** to a **new location** under **condition** $Cond$ and **action** $Act$.\n",
    "- $Loc_0 \\subseteq Loc$ is a finite set of initial locations.\n",
    "- $g_0$ is an initial condition on the program variables.\n",
    "- $Eval$ is a function that evaluates conditions on variables.\n"
   ]
  },
  {
   "cell_type": "markdown",
   "metadata": {
    "deletable": false,
    "editable": false
   },
   "source": [
    "### Example"
   ]
  },
  {
   "cell_type": "markdown",
   "metadata": {
    "deletable": false,
    "editable": false
   },
   "source": [
    "Let’s define a **simple program graph** for a counter that increments from 0 to 2.\n",
    "\n",
    "- $Loc = \\{L_0, L_1, L_2\\}$\n",
    "- $Loc_0 = \\{L_0\\}$\n",
    "- $Act = \\{x += 1\\}$\n",
    "- $\\rightarrow = \\{(L_0, x < 2, x += 1, L_1), (L_1, x < 2, x += 1, L_2)\\}$\n",
    "- $g_0 = \\{x = 0\\}$"
   ]
  },
  {
   "cell_type": "markdown",
   "metadata": {
    "deletable": false,
    "editable": false
   },
   "source": [
    "### Use `HashableDict`\n"
   ]
  },
  {
   "cell_type": "markdown",
   "metadata": {
    "deletable": false,
    "editable": false
   },
   "source": [
    "In this exercise we will represent environments (variable assignments) as part of the states in a **Transition System**, which requires them to be **hashable** (so they can be used in sets and dictionaries). However, **Python dictionaries are mutable and not hashable by default**.\n",
    "\n",
    "By defining `HashableDict`, which inherits from `dict` and implements `__hash__` using `frozenset(self.items())`, we create an **immutable, hashable representation** of environments while preserving dictionary-like behavior for easy lookups and modifications.\n"
   ]
  },
  {
   "cell_type": "code",
   "execution_count": 3,
   "metadata": {
    "ExecuteTime": {
     "end_time": "2025-03-31T11:02:11.681297Z",
     "start_time": "2025-03-31T11:02:11.679716Z"
    },
    "deletable": false,
    "editable": false
   },
   "outputs": [],
   "source": [
    "class HashableDict(dict):\n",
    "    def __hash__(self):\n",
    "        return hash(frozenset(self.items()))"
   ]
  },
  {
   "cell_type": "code",
   "execution_count": 4,
   "metadata": {},
   "outputs": [],
   "source": [
    "import networkx as nx\n",
    "import matplotlib.pyplot as plt\n",
    "from typing import Set, Dict, Tuple, Union, Optional\n",
    "from queue import Queue\n",
    "\n",
    "State = Union[str, Tuple]  # A state can be a string or a tuple (location, environment)\n",
    "Action = str  # Actions are represented as strings\n",
    "Transition = Tuple[State, Action, State]  # (source_state, action, target_state)\n",
    "LabelingMap = Dict[State, Set[str]]  # Maps states to atomic propositions\n",
    "\n",
    "\n",
    "class TransitionSystem:\n",
    "    \"\"\"\n",
    "    A Transition System (TS) representation.\n",
    "\n",
    "    Attributes:\n",
    "        S (Set[State]): The set of all states (strings or tuples).\n",
    "        Act (Set[Action]): The set of all possible actions.\n",
    "        Transitions (Set[Transition]): The set of transitions, each represented as (state_origin, action, state_target).\n",
    "        I (Set[State]): The set of initial states.\n",
    "        AP (Set[str]): The set of atomic propositions.\n",
    "        _L (LabelingMap): A dictionary mapping states to their respective atomic propositions.\n",
    "    \"\"\"\n",
    "\n",
    "    def __init__(\n",
    "        self,\n",
    "        states: Optional[Set[State]] = None,\n",
    "        actions: Optional[Set[Action]] = None,\n",
    "        transitions: Optional[Set[Transition]] = None,\n",
    "        initial_states: Optional[Set[State]] = None,\n",
    "        atomic_props: Optional[Set[str]] = None,\n",
    "        labeling_map: Optional[LabelingMap] = None,\n",
    "    ) -> None:\n",
    "        \"\"\"\n",
    "        Initializes the Transition System.\n",
    "\n",
    "        :param states: A set of states (each a string or a tuple). Defaults to an empty set.\n",
    "        :param actions: A set of actions. Defaults to an empty set.\n",
    "        :param transitions: A set of transitions, each as (state_origin, action, state_target). Defaults to an empty set.\n",
    "        :param initial_states: A set of initial states. Defaults to an empty set.\n",
    "        :param atomic_props: A set of atomic propositions. Defaults to an empty set.\n",
    "        :param labeling_map: A dictionary mapping states to sets of atomic propositions. Defaults to an empty dictionary.\n",
    "        \"\"\"\n",
    "        self.S: Set[State] = set(states) if states is not None else set()\n",
    "        self.Act: Set[Action] = set(actions) if actions is not None else set()\n",
    "        self.Transitions: Set[Transition] = set(transitions) if transitions is not None else set()\n",
    "        self.I: Set[State] = set(initial_states) if initial_states is not None else set()\n",
    "        self.AP: Set[str] = set(atomic_props) if atomic_props is not None else set()\n",
    "        self._L: LabelingMap = dict(labeling_map) if labeling_map is not None else {}\n",
    "\n",
    "    def add_state(self, *states: State) -> \"TransitionSystem\":\n",
    "        \"\"\"\n",
    "        Adds one or more states to the transition system.\n",
    "\n",
    "        :param states: One or more states (strings or tuples) to be added.\n",
    "        :return: The TransitionSystem instance (for method chaining).\n",
    "        \"\"\"\n",
    "        for state in states:\n",
    "            self.S.add(state)\n",
    "        return self\n",
    "\n",
    "    def add_action(self, *actions: Action) -> \"TransitionSystem\":\n",
    "        \"\"\"\n",
    "        Adds one or more actions to the transition system.\n",
    "\n",
    "        :param actions: One or more actions (strings) to be added.\n",
    "        :return: The TransitionSystem instance (for method chaining).\n",
    "        \"\"\"\n",
    "        self.Act.update(actions)\n",
    "        return self\n",
    "\n",
    "    def add_transition(self, *transitions: Transition) -> \"TransitionSystem\":\n",
    "        \"\"\"\n",
    "        Adds one or more transitions to the transition system.\n",
    "        Ensures that all involved states and actions exist before adding the transitions.\n",
    "\n",
    "        Each transition must be provided as a tuple of the form `(state_from, action, state_to)`, where:\n",
    "        - `state_from` is the source state.\n",
    "        - `action` is the action performed.\n",
    "        - `state_to` is the resulting state.\n",
    "\n",
    "        :param transitions: One or more transitions, each as a tuple `(state_from, action, state_to)`.\n",
    "        :raises ValueError:\n",
    "            - If a transition is not a tuple of length 3.\n",
    "            - If `state_from` or `state_to` does not exist in `self.S`.\n",
    "            - If `action` is not in `self.Act`.\n",
    "        :return: The `TransitionSystem` instance (for method chaining).\n",
    "        \"\"\"\n",
    "        for transition in transitions:\n",
    "            if not isinstance(transition, tuple) or len(transition) != 3:\n",
    "                raise ValueError(f\"Invalid transition: {transition}\")\n",
    "            if transition[0] not in self.S:\n",
    "                raise ValueError(f\"State {transition[0]} is not in the transition system.\")\n",
    "            if transition[2] not in self.S:\n",
    "                raise ValueError(f\"State {transition[2]} is not in the transition system.\")\n",
    "            if transition[1] not in self.Act:\n",
    "                raise ValueError(f\"Action {transition[1]} is not in the transition system.\")\n",
    "        self.Transitions.update(transitions)\n",
    "        return self\n",
    "            \n",
    "    def add_initial_state(self, *states: State) -> \"TransitionSystem\":\n",
    "        \"\"\"\n",
    "        Adds one or more states to the set of initial states.\n",
    "\n",
    "        :param states: One or more states to be marked as initial.\n",
    "        :raises ValueError: If any state does not exist in the system.\n",
    "        :return: The TransitionSystem instance (for method chaining).\n",
    "        \"\"\"\n",
    "        if any(state not in self.S for state in states):\n",
    "            raise ValueError(f\"Initial state {states[0]} must be in the transition system.\")\n",
    "        self.I.update(states)\n",
    "        return self\n",
    "\n",
    "    def add_atomic_proposition(self, *props: str) -> \"TransitionSystem\":\n",
    "        \"\"\"\n",
    "        Adds one or more atomic propositions to the transition system.\n",
    "\n",
    "        :param props: One or more atomic propositions (strings) to be added.\n",
    "        :return: The TransitionSystem instance (for method chaining).\n",
    "        \"\"\"\n",
    "        self.AP.update(props)\n",
    "        return self\n",
    "\n",
    "    def add_label(self, state: State, *labels: str) -> \"TransitionSystem\":\n",
    "        \"\"\"\n",
    "        Adds one or more atomic propositions to a given state.\n",
    "\n",
    "        :param state: The state to label.\n",
    "        :param labels: One or more atomic propositions to be assigned to the state.\n",
    "        :raises ValueError: If the state is not in the system or if any label is not a valid atomic proposition.\n",
    "        :return: The TransitionSystem instance (for method chaining).\n",
    "        \"\"\"\n",
    "        if state not in self.S:\n",
    "            raise ValueError(f\"Cannot set labels for {state}. State is not in the transition system.\")\n",
    "        if any(label not in self.AP for label in labels):\n",
    "            invalid_labels = {label for label in labels if label not in self.AP}\n",
    "            raise ValueError(f\"Cannot assign labels {invalid_labels}. They are not in the set of atomic propositions (AP).\")\n",
    "        if state not in self._L:\n",
    "            self._L[state] = set()\n",
    "        self._L[state].update(labels)\n",
    "        return self\n",
    "\n",
    "    def L(self, state: State) -> Set[str]:\n",
    "        \"\"\"\n",
    "        Retrieves the set of atomic propositions that hold in a given state.\n",
    "\n",
    "        :param state: The state whose atomic propositions are being retrieved.\n",
    "        :raises ValueError: If the state is not in the transition system.\n",
    "        :return: A set of atomic propositions associated with the given state.\n",
    "        \"\"\"\n",
    "        if state not in self.S:\n",
    "            raise ValueError(f\"State {state} is not in the transition system.\")\n",
    "        return self._L.get(state, set())\n",
    "\n",
    "    def pre(self, S: Union[State, Set[State]], action: Optional[Action] = None) -> Set[State]:\n",
    "        \"\"\"\n",
    "        Computes the set of predecessor states from which a given state or set of states can be reached.\n",
    "\n",
    "        :param S: A single state (string/tuple) or a collection of states.\n",
    "        :param action: (Optional) If provided, filters only the transitions that use this action.\n",
    "        :return: A set of predecessor states.\n",
    "        \"\"\"\n",
    "        actions = {action} if action is not None else self.Act\n",
    "        return {state_from for state_from, a, state_to in self.Transitions if state_to in S and a in actions}\n",
    "\n",
    "    def post(self, S: Union[State, Set[State]], action: Optional[Action] = None) -> Set[State]:\n",
    "        \"\"\"\n",
    "        Computes the set of successor states reachable from a given state or a collection of states.\n",
    "\n",
    "        :param S: A single state or a collection of states.\n",
    "        :param action: (Optional) Filters transitions by this action.\n",
    "        :return: A set of successor states.\n",
    "        \"\"\"\n",
    "        actions = {action} if action is not None else self.Act\n",
    "        states = set()\n",
    "        for  state_from, a, state_to in self.Transitions:\n",
    "             if (state_from in S or state_from == S) and a in actions:\n",
    "                states.add(state_to)\n",
    "        return states\n",
    "\n",
    "    def reach(self) -> Set[State]:\n",
    "        \"\"\"\n",
    "        Computes the set of all reachable states from the initial states.\n",
    "\n",
    "        :return: A set of reachable states.\n",
    "        \"\"\"\n",
    "        # BFS to find reachable states\n",
    "        visited = set()\n",
    "        reachable = set(self.I)\n",
    "        q = Queue()\n",
    "        for state in self.I:\n",
    "            q.put(state)\n",
    "        while not q.empty():\n",
    "            state = q.get()\n",
    "            if state in visited:\n",
    "                continue\n",
    "            visited.add(state)\n",
    "            successors = self.post(state)\n",
    "            reachable.update(successors)\n",
    "            for succ in successors:\n",
    "                q.put(succ)\n",
    "        return reachable\n",
    "\n",
    "    def is_action_deterministic(self) -> bool:\n",
    "        \"\"\"\n",
    "        Checks whether the transition system is action-deterministic.\n",
    "\n",
    "        A transition system is action-deterministic if:\n",
    "        - It has at most one initial state.\n",
    "        - For each state and action, there is at most one successor state.\n",
    "\n",
    "        :return: True if the transition system is action-deterministic, False otherwise.\n",
    "        \"\"\"\n",
    "        if len(self.I) > 1:\n",
    "            return False\n",
    "        source_trans = set()\n",
    "        for transition in self.Transitions:\n",
    "            source, action, target = transition\n",
    "            if (source, action) in source_trans:\n",
    "                return False\n",
    "            source_trans.add((source, action))\n",
    "        return True\n",
    "        \n",
    "\n",
    "    def is_label_deterministic(self) -> bool:\n",
    "        \"\"\"\n",
    "        Checks whether the transition system is label-deterministic.\n",
    "\n",
    "        A transition system is label-deterministic if:\n",
    "        - It has at most one initial state.\n",
    "        - For each state, the number of reachable successor states is equal to the number of unique label sets\n",
    "          of these successor states.\n",
    "\n",
    "        :return: True if the transition system is label-deterministic, False otherwise.\n",
    "        \"\"\"\n",
    "        if len(self.I) > 1:\n",
    "            return False\n",
    "        for state in self.S:\n",
    "            successors = self.post(state)\n",
    "            unique_labels = {frozenset(self.L(succ)) for succ in successors}\n",
    "            if len(successors) != len(unique_labels):\n",
    "                return False\n",
    "        return True\n",
    "                \n",
    "\n",
    "    def __repr__(self) -> str:\n",
    "        \"\"\"\n",
    "        Returns a string representation of the Transition System.\n",
    "\n",
    "        :return: A formatted string representation of the TS.\n",
    "        \"\"\"\n",
    "        return (\n",
    "            f\"TransitionSystem(\\n\"\n",
    "            f\"  States: {self.S}\\n\"\n",
    "            f\"  Actions: {self.Act}\\n\"\n",
    "            f\"  Transitions: {len(self.Transitions)}\\n\"\n",
    "            f\"  Initial States: {self.I}\\n\"\n",
    "            f\"  Atomic Propositions: {self.AP}\\n\"\n",
    "            f\"  Labels: {self._L}\\n\"\n",
    "            f\")\"\n",
    "        )\n",
    "\n",
    "\n",
    "    def plot(self, title: str = \"Transition System\", figsize: Tuple[int, int] = (10, 6)) -> None:\n",
    "        \"\"\"\n",
    "        Plots the Transition System as a directed graph.\n",
    "\n",
    "        :param title: Title of the plot.\n",
    "        :param figsize: Figure size for the plot.\n",
    "        \"\"\"\n",
    "        G = nx.DiGraph()\n",
    "\n",
    "        # Add nodes (states)\n",
    "        for state in self.S:\n",
    "            label = f\"{state}\\n{' '.join(self.L(state))}\" if self.L(state) else str(state)\n",
    "            print(label)\n",
    "            G.add_node(state, label=label, color=\"blue\" if state in self.I else \"yellow\")\n",
    "\n",
    "        # Add edges (transitions)\n",
    "        for state_from, action, state_to in self.Transitions:\n",
    "            G.add_edge(state_from, state_to, label=action)\n",
    "\n",
    "        plt.figure(figsize=figsize)\n",
    "        pos = nx.spring_layout(G)  # Positioning algorithm for layout\n",
    "\n",
    "        # Draw nodes\n",
    "        node_colors = [G.nodes[n][\"color\"] for n in G.nodes]\n",
    "        nx.draw(G, pos, with_labels=True, labels=nx.get_node_attributes(G, \"label\"), node_color=node_colors, edgecolors=\"black\", node_size=2000, font_size=10)\n",
    "\n",
    "        # Draw edge labels (actions)\n",
    "        edge_labels = {(u, v): d[\"label\"] for u, v, d in G.edges(data=True)}\n",
    "        nx.draw_networkx_edge_labels(G, pos, edge_labels=edge_labels, font_size=9)\n",
    "\n",
    "        plt.title(title)\n",
    "        plt.show()\n"
   ]
  },
  {
   "cell_type": "markdown",
   "metadata": {
    "deletable": false,
    "editable": false
   },
   "source": [
    "Your task is to implement the `ProgramGraph` class in Python. The class should have the following methods:"
   ]
  },
  {
   "cell_type": "code",
   "execution_count": 178,
   "metadata": {
    "ExecuteTime": {
     "end_time": "2025-03-31T11:02:12.116522Z",
     "start_time": "2025-03-31T11:02:11.769125Z"
    },
    "id": "Yr4ZoKdZtQzk",
    "tags": [
     "otter_answer_cell"
    ]
   },
   "outputs": [],
   "source": [
    "from typing import Callable, Set, Tuple, Dict, List, Union, Optional\n",
    "import matplotlib.pyplot as plt\n",
    "import networkx as nx\n",
    "import itertools\n",
    "# Add your imports here, don't forget to include your TransitionSystem class\n",
    "...\n",
    "\n",
    "Location = Union[str, Tuple]  # A state can be a string or a tuple (location, environment)\n",
    "Action = str  # Actions are represented as strings\n",
    "Condition = str # Conditions are represented as strings\n",
    "Transition = Tuple[Location, Condition, Action, Location]  # (source_state, action, target_state)\n",
    "Environment = Dict[str, Union[str, bool, int, float]]      # Variable assignments\n",
    "\n",
    "\n",
    "class ProgramGraph:\n",
    "    def __init__(\n",
    "        self,\n",
    "        locations: Set[Location],\n",
    "        initial_locations: Set[Location],\n",
    "        actions: Set[Action],\n",
    "        transitions: Set[Transition],\n",
    "        eval_fn: Callable[[Condition, Environment], bool],\n",
    "        effect_fn: Callable[[Action, Environment], Environment],\n",
    "        g0: Condition\n",
    "    ):\n",
    "        \"\"\"\n",
    "        A representation of a Program Graph.\n",
    "\n",
    "        :param locations: Set of all program locations (Loc).\n",
    "        :param initial_locations: Set of initial locations (Loc0).\n",
    "        :param actions: Set of possible actions (Act).\n",
    "        :param transitions: Set of transitions in the form (loc_from, condition, action, loc_to).\n",
    "        :param eval_fn: Function to evaluate a condition string in an environment.\n",
    "        :param effect_fn: Function to compute the new environment after applying an action.\n",
    "        :param g0: Initial condition string for filtering valid starting environments.\n",
    "        \"\"\"\n",
    "        self.Loc = set(locations)\n",
    "        self.Loc0 = set(initial_locations)\n",
    "        self.Act = set(actions)\n",
    "        self.Transitions = set(transitions)\n",
    "        self.eval_fn = eval_fn\n",
    "        self.effect_fn = effect_fn\n",
    "        self.g0 = g0\n",
    "\n",
    "    def add_location(self, *locations: Location) -> \"ProgramGraph\":\n",
    "        \"\"\"Add one or more locations to the program graph.\"\"\"\n",
    "        self.Loc.update(locations)\n",
    "        return self\n",
    "\n",
    "    def add_action(self, *actions: Action) -> \"ProgramGraph\":\n",
    "        \"\"\"Add one or more actions to the program graph.\"\"\"\n",
    "        self.Act.update(actions)\n",
    "        return self\n",
    "\n",
    "    def add_transition(self, *transitions: Transition) -> \"ProgramGraph\":\n",
    "        \"\"\"\n",
    "        Add one or more transitions to the program graph.\n",
    "\n",
    "        Each transition must be a tuple: (loc_from, condition, action, loc_to).\n",
    "        \"\"\"\n",
    "        for transition in transitions:\n",
    "            if not isinstance(transition, tuple) or len(transition) != 4:\n",
    "                raise ValueError(f\"Invalid transition format: {transition}. Expected (loc_from, cond, action, loc_to).\")\n",
    "            loc_from, cond, action, loc_to = transition\n",
    "            if loc_from not in self.Loc:\n",
    "                raise ValueError(f\"Location {loc_from} is not in the program graph.\")\n",
    "            if loc_to not in self.Loc:\n",
    "                raise ValueError(f\"Location {loc_to} is not in the program graph.\")\n",
    "            if action not in self.Act:\n",
    "                raise ValueError(f\"Action {action} is not in the program graph.\")\n",
    "\n",
    "            self.Transitions.add(transition)\n",
    "        return self\n",
    "\n",
    "    def add_initial_location(self, *locations: Location) -> \"ProgramGraph\":\n",
    "        \"\"\"Add one or more initial locations to the program graph.\"\"\"\n",
    "        for loc in locations:\n",
    "            if loc not in self.Loc:\n",
    "                raise ValueError(f\"Cannot set initial location {loc}. Location is not in the set of locations.\")\n",
    "            self.Loc0.add(loc)\n",
    "        return self\n",
    "\n",
    "    def set_eval_fn(self, eval_fn: Callable[[Condition, Environment], bool]) -> \"ProgramGraph\":\n",
    "        \"\"\"Set the function used to evaluate conditions.\"\"\"\n",
    "        self.eval_fn = eval_fn\n",
    "        return self\n",
    "\n",
    "    def set_effect_fn(self, effect_fn: Callable[[Action, Environment], Environment]) -> \"ProgramGraph\":\n",
    "        \"\"\"Set the function used to apply actions to environments.\"\"\"\n",
    "        self.effect_fn = effect_fn\n",
    "        return self\n",
    "\n",
    "    def eval(self, condition: Condition, env: Environment) -> bool:\n",
    "        \"\"\"Evaluate a condition string in the given environment.\"\"\"\n",
    "        return self.eval_fn(condition, env)\n",
    "\n",
    "    def effect(self, action: Action, env: Environment) -> Environment:\n",
    "        \"\"\"Apply an action to the environment and return the new environment.\"\"\"\n",
    "        return self.effect_fn(action, env)\n",
    "\n",
    "\n",
    "    def valid_transitions(self, loc: Location, env: Environment, action: Action) -> List[Tuple[Location, Action, Location]]:\n",
    "        \"\"\"\n",
    "        Return a list of valid transitions from a given location using the provided environment and action.\n",
    "        \"\"\"\n",
    "        transitions = []\n",
    "        for (loc_from, cond, act, loc_to) in self.Transitions:\n",
    "            if loc_from == loc and act == action:\n",
    "                if self.eval(cond, env):\n",
    "                    transitions.append((loc_from, act, loc_to))\n",
    "        return transitions\n",
    "    \n",
    "    def get_locs_actions(self, loc: Location) -> List[Action]:\n",
    "        actions = []\n",
    "        for trans in self.Transitions:\n",
    "            curr_loc, cond, action, to_loc = trans\n",
    "            \n",
    "            if curr_loc == loc:\n",
    "                actions.append(action)\n",
    "        return actions\n",
    "                \n",
    "                \n",
    "            \n",
    "        \n",
    "        \n",
    "\n",
    "    def to_transition_system(self, vars: Dict[str, Set[Union[str, bool, int, float]]], labels: Set[Condition]) -> TransitionSystem:\n",
    "        \"\"\"\n",
    "        Construct and return a Transition System from the program graph.\n",
    "\n",
    "        :param vars: A dictionary mapping variable names to their finite sets of possible values.\n",
    "        :param labels: A set of atomic proposition strings to be used for labeling states.\n",
    "        :return: A TransitionSystem instance corresponding to the program graph.\n",
    "        \"\"\"\n",
    "        ts = TransitionSystem()\n",
    "        q_state = Queue()\n",
    "        keys = vars.keys()\n",
    "        all_values = [vars[key] for key in keys]\n",
    "        all_combinations = list(itertools.product(*all_values))\n",
    "        visited = set()\n",
    "        for env in all_combinations:\n",
    "            env_dict = {key: value for key, value in zip(keys, env)}\n",
    "            env_dict = HashableDict(env_dict)  # Convert to hashable dict for state representation\n",
    "            for loc in self.Loc0:\n",
    "                state = (loc, env_dict)\n",
    "                q_state.put((state, False)) # False indicates not reachable yet\n",
    "\n",
    "            while not q_state.empty():\n",
    "                state, is_reachable = q_state.get()                   \n",
    "                if state in visited:\n",
    "                    continue\n",
    "                visited.add(state)\n",
    "                loc, env_dict = state\n",
    "                if loc in self.Loc0 and not(self.eval(self.g0, env_dict) or is_reachable):\n",
    "                    continue\n",
    "                ts.add_state(state)\n",
    "                if loc in self.Loc0 and self.eval(self.g0, env_dict):\n",
    "                    ts.add_initial_state(state)\n",
    "                for label in labels:\n",
    "                    ts.add_atomic_proposition(label)\n",
    "                    ts.add_atomic_proposition(loc)\n",
    "                    if self.eval(label, env_dict):\n",
    "                        ts.add_label(state, loc)\n",
    "                        ts.add_label(state, label)\n",
    "                actions = self.get_locs_actions(loc)\n",
    "                for action in actions:\n",
    "                    ts.add_action(action)\n",
    "                    valid_transitions = self.valid_transitions(loc, env_dict, action)\n",
    "                    for trans in valid_transitions:\n",
    "                        from_loc, act, to_loc = trans\n",
    "                        new_env = HashableDict(self.effect(act, env_dict))\n",
    "                        q_state.put(((to_loc, new_env),True)) # True indicates reachable\n",
    "                    \n",
    "                    \n",
    "        for state in ts.S:\n",
    "            loc, env = state\n",
    "            actions = self.get_locs_actions(loc)\n",
    "            for action in actions:\n",
    "                ts.add_action(action)\n",
    "                valid_transitions = self.valid_transitions(loc, env, action)\n",
    "                for trans in valid_transitions:\n",
    "                    from_loc, act, to_loc = trans\n",
    "                    new_env = HashableDict(self.effect(act, env))\n",
    "                    new_state = (to_loc, new_env)\n",
    "                    if new_state in ts.S:\n",
    "                        ts.add_transition((state, act, new_state))\n",
    "                    \n",
    "        ts.S = ts.reach()\n",
    "                \n",
    "        return ts\n",
    "            \n",
    "                \n",
    "        \n",
    "\n",
    "    def __repr__(self):\n",
    "                return (\n",
    "            f\"ProgramGraph(\\n\"\n",
    "            f\"  Loc: {self.Loc}\\n\"\n",
    "            f\"  Act: {self.Act}\\n\"\n",
    "            f\"  Transitions: {self.Transitions}\\n\"\n",
    "            f\"  Loc0: {self.Loc0}\\n\"\n",
    "            f\"  g0: {self.g0}\\n\"\n",
    "            f\")\"\n",
    "        )\n",
    "\n",
    "    def plot(self):\n",
    "        \"\"\"\n",
    "        Visualize the program graph as a directed graph using networkx and matplotlib.\n",
    "\n",
    "        Nodes are locations. Edges are labeled with (condition, action).\n",
    "        \"\"\"\n",
    "        G = nx.MultiDiGraph()\n",
    "\n",
    "        # Add nodes\n",
    "        for loc in self.Loc:\n",
    "            G.add_node(loc, color='lightblue' if loc in self.Loc0 else 'white')\n",
    "\n",
    "        # Add edges with (condition, action) labels\n",
    "        for (loc_from, cond, action, loc_to) in self.Transitions:\n",
    "            label = f\"{cond} / {action}\"\n",
    "            G.add_edge(loc_from, loc_to, label=label)\n",
    "\n",
    "        pos = nx.spring_layout(G, seed=42)  # consistent layout\n",
    "\n",
    "        # Draw nodes with color\n",
    "        node_colors = [G.nodes[n].get('color', 'white') for n in G.nodes]\n",
    "        nx.draw_networkx_nodes(G, pos, node_color=node_colors, edgecolors='black')\n",
    "        nx.draw_networkx_labels(G, pos)\n",
    "\n",
    "        # Draw edges\n",
    "        nx.draw_networkx_edges(G, pos, arrows=True)\n",
    "\n",
    "        # Draw edge labels\n",
    "        edge_labels = {(u, v): d['label'] for u, v, d in G.edges(data=True)}\n",
    "        nx.draw_networkx_edge_labels(G, pos, edge_labels=edge_labels, font_size=8)\n",
    "\n",
    "        # Display\n",
    "        plt.title(\"Program Graph\")\n",
    "        plt.axis('off')\n",
    "        plt.tight_layout()\n",
    "        plt.show()"
   ]
  },
  {
   "cell_type": "markdown",
   "metadata": {
    "deletable": false,
    "editable": false
   },
   "source": [
    "## Example: Program Graph to Transition System Conversion"
   ]
  },
  {
   "cell_type": "markdown",
   "metadata": {
    "deletable": false,
    "editable": false
   },
   "source": [
    "In the cell bellow, we define helper functions `eval_fn` and `effect_fn` using the Python interpreter. These functions are used to evaluate conditions and apply actions within a given environment. We then create a simple program graph for a counter that increments from 0 to 2 and convert it to a transition system."
   ]
  },
  {
   "cell_type": "code",
   "execution_count": 179,
   "metadata": {
    "ExecuteTime": {
     "end_time": "2025-03-31T11:02:12.123953Z",
     "start_time": "2025-03-31T11:02:12.120381Z"
    },
    "deletable": false,
    "editable": false
   },
   "outputs": [
    {
     "name": "stdout",
     "output_type": "stream",
     "text": [
      "States: {('L1', {'x': 1}), ('L0', {'x': 0}), ('L2', {'x': 2})}\n",
      "\n",
      "Transitions:\n",
      "(('L1', {'x': 1}), 'x += 1', ('L2', {'x': 2}))\n",
      "(('L0', {'x': 0}), 'x += 1', ('L1', {'x': 1}))\n"
     ]
    }
   ],
   "source": [
    "# Define helper functions for evaluation and effects\n",
    "def eval_fn(cond, env):\n",
    "    \"\"\"Evaluates a condition string in a given environment dictionary.\"\"\"\n",
    "    try:\n",
    "        return eval(cond, {}, env)\n",
    "    except:\n",
    "        return False\n",
    "\n",
    "def effect_fn(action, env):\n",
    "    \"\"\"Applies an action (which modifies variables) and returns a new environment.\"\"\"\n",
    "    new_env = env.copy()\n",
    "    try:\n",
    "        exec(action, {}, new_env)\n",
    "    except:\n",
    "        pass\n",
    "    return new_env\n",
    "\n",
    "# Create a simple program graph for a counter that increments from 0 to 2\n",
    "pg = ProgramGraph(\n",
    "    locations={'L0', 'L1', 'L2'},\n",
    "    initial_locations={'L0'},\n",
    "    actions={'x += 1'},\n",
    "    transitions={\n",
    "        ('L0', 'x < 2', 'x += 1', 'L1'),\n",
    "        ('L1', 'x < 2', 'x += 1', 'L2')\n",
    "    },\n",
    "    eval_fn=eval_fn,\n",
    "    effect_fn=effect_fn,\n",
    "    g0='x == 0'  # Initial condition: x starts at 0\n",
    ")\n",
    "\n",
    "# Convert to transition system\n",
    "vars = {'x': {0, 1, 2}}  # Possible values for x\n",
    "labels = {'x < 2', 'x == 2'}  # Properties we want to track\n",
    "ts = pg.to_transition_system(vars, labels)\n",
    "\n",
    "# Print the states and transitions\n",
    "print(\"States:\", ts.S)\n",
    "print(\"\\nTransitions:\")\n",
    "for transition in ts.Transitions:\n",
    "    print(transition)"
   ]
  },
  {
   "cell_type": "code",
   "execution_count": 198,
   "metadata": {
    "deletable": false,
    "editable": false
   },
   "outputs": [
    {
     "data": {
      "text/html": [
       "<p><strong><pre style='display: inline;'>q1</pre></strong> passed! ✨</p>"
      ],
      "text/plain": [
       "q1 results: All test cases passed!"
      ]
     },
     "execution_count": 198,
     "metadata": {},
     "output_type": "execute_result"
    }
   ],
   "source": [
    "grader.check(\"q1\")"
   ]
  },
  {
   "cell_type": "markdown",
   "metadata": {
    "deletable": false,
    "editable": false
   },
   "source": [
    "## 🧠 Question 2: Modeling a Multi-Threaded Counter with a Program Graph"
   ]
  },
  {
   "cell_type": "markdown",
   "metadata": {
    "deletable": false,
    "editable": false
   },
   "source": [
    "### 🔍 Objective\n",
    "In this task, you will implement a function that constructs a **Program Graph** representing a simplified **multi-threaded counter protocol**.\n",
    "\n",
    "Each of the `n_threads` executes a fixed four-step sequence to increment a shared variable `x`. The increment operation is broken into atomic actions using a temporary variable `tmp_i` and a counter variable `count_i` for each thread:\n",
    "\n",
    "1. `count_i += 1` – mark the start of a new iteration\n",
    "2. `tmp_i = x` – read\n",
    "3. `tmp_i += 1` – increment\n",
    "4. `x = tmp_i` – write\n",
    "\n",
    "The goal is to repeat this protocol **up to `n_repeats` times per thread**. Once a thread completes all 4 steps, it may loop back to the beginning **only if `count_i < n_repeats`**.\n"
   ]
  },
  {
   "cell_type": "markdown",
   "metadata": {
    "deletable": false,
    "editable": false,
    "vscode": {
     "languageId": "markdown"
    }
   },
   "source": [
    "### **🧩 Task 1: Program Graph Definition**\n",
    "\n",
    "You are required to implement the function:\n",
    "\n",
    "```python\n",
    "def counter_program_graph(n_threads: int, n_repeats: int) -> ProgramGraph:\n",
    "    ...\n",
    "```\n",
    "\n",
    "The function should return a valid `ProgramGraph` object with the following properties:\n",
    "\n",
    "#### 🔹 Locations (`Loc`)\n",
    "- Each location is a string of length `n_threads`, where each character is in `{1, 2, 3, 4}`.\n",
    "- The `i`-th character indicates the program counter of thread `i`, representing its progress in the 4-step protocol.\n",
    "- All combinations of `{1, 2, 3, 4}^n_threads` should be included.\n",
    "\n",
    "#### 🔹 Initial Location (`Loc0`)\n",
    "- All threads start at step 1: `'1' * n_threads`\n",
    "\n",
    "#### 🔹 Actions (`Act`)\n",
    "Each thread has exactly 4 actions:\n",
    "1. `count_i += 1` (track iteration count)\n",
    "2. `tmp_i = x` (read)\n",
    "3. `tmp_i += 1` (increment)\n",
    "4. `x = tmp_i` (write)\n",
    "\n",
    "Total actions: `4 * n_threads`\n",
    "\n",
    "#### 🔹 Transitions (`Transitions`)\n",
    "- If a thread is at step 1:\n",
    "  - It performs `count_i += 1` and may only proceed **if `count_i < n_repeats`**.\n",
    "- If a thread is at step 2 or 3:\n",
    "  - It progresses unconditionally using its corresponding action.\n",
    "- If a thread is at step 4:\n",
    "  - It always performs `x = tmp_i` and then loops back to step 1.\n",
    "\n",
    "Each transition updates the corresponding thread's program counter by one (or loops to 1 after step 4).\n",
    "\n",
    "#### 🔹 Initial Condition (`g0`)\n",
    "All variables are initialized to 0:\n",
    "```\n",
    "x == 0 and tmp_1 == 0 and count_1 == 0 and tmp_2 == 0 and count_2 == 0 ... and tmp_n == 0 and count_n == 0\n",
    "```\n",
    "\n",
    "---\n",
    "\n"
   ]
  },
  {
   "cell_type": "markdown",
   "metadata": {
    "deletable": false,
    "editable": false
   },
   "source": [
    "### 🔧 Example\n",
    "\n",
    "For `n_threads = 2` and `n_repeats = 3`, the constructed program graph will include:\n",
    "\n",
    "#### Locations\n",
    "All combinations of two digits from `{1, 2, 3, 4}`:\n",
    "```\n",
    "{'11', '12', '13', '14', '21', '22', '23', '24', '31', '32', '33', '34', '41', '42', '43', '44'}\n",
    "```\n",
    "\n",
    "Each digit represents the program counter (PC) of a thread.\n",
    "For example, `'24'` means:\n",
    "- Thread 1 is at PC = 2\n",
    "- Thread 2 is at PC = 4\n",
    "\n",
    "#### Actions\n",
    "Each thread has 4 actions. For 2 threads:\n",
    "```\n",
    "[\n",
    "  'count_1 += 1', 'tmp_1 = x', 'tmp_1 += 1', 'x = tmp_1',\n",
    "  'count_2 += 1', 'tmp_2 = x', 'tmp_2 += 1', 'x = tmp_2'\n",
    "]\n",
    "```\n",
    "\n",
    "#### Initial Location\n",
    "```python\n",
    "'11'\n",
    "```\n",
    "Both threads start at PC = 1.\n",
    "\n",
    "#### Transitions\n",
    "Each thread moves forward in its 4-step sequence or loops back to 1:\n",
    "\n",
    "- `'11'` → `'21'` via action `'count_1 += 1'` **if `count_1 < 3`**\n",
    "- `'21'` → `'31'` via action `'tmp_1 = x'`\n",
    "- `'31'` → `'41'` via action `'tmp_1 += 1'`\n",
    "- `'41'` → `'11'` via action `'x = tmp_1'`\n",
    "\n",
    "These transitions apply similarly for thread 2. All transitions are independent and interleaved.\n",
    "\n",
    "#### Initial Condition\n",
    "All variables initialized to 0:\n",
    "```python\n",
    "x == 0 and tmp_1 == 0 and count_1 == 0 and tmp_2 == 0 and count_2 == 0\n",
    "```\n"
   ]
  },
  {
   "cell_type": "code",
   "execution_count": 214,
   "metadata": {
    "ExecuteTime": {
     "end_time": "2025-03-31T11:02:12.156564Z",
     "start_time": "2025-03-31T11:02:12.152335Z"
    },
    "tags": [
     "otter_answer_cell"
    ]
   },
   "outputs": [],
   "source": [
    "# Add your imports here\n",
    "import itertools\n",
    "from pprint import pprint\n",
    "\n",
    "def eval_fn(cond, env):\n",
    "    \"\"\"Evaluates a condition string in a given environment dictionary.\"\"\"\n",
    "    try:\n",
    "        return eval(cond, {}, env)\n",
    "    except Exception as e:\n",
    "        print(f\"Error evaluating condition '{cond}' with env {env}: {e}\")\n",
    "        return False\n",
    "\n",
    "def effect_fn(action, env):\n",
    "    \"\"\"Applies an action (which modifies variables) and returns a new environment.\"\"\"\n",
    "    new_env = env.copy()\n",
    "    try:\n",
    "        exec(action, {}, new_env)\n",
    "    except:\n",
    "        pass\n",
    "    return new_env\n",
    "\n",
    "def counter_program_graph(n_threads: int, n_repeats: int) -> ProgramGraph:\n",
    "    x = 0\n",
    "    all_locs = list(itertools.product(*[{1, 2, 3, 4} for _ in range(n_threads)]))\n",
    "    all_locs = [''.join(map(lambda x: str(x), loc)) for loc in all_locs]\n",
    "    vars_dict = {f'count_{i}': 0 for i in range(1,n_threads+1)}\n",
    "    vars_dict.update({f'tmp_{i}': 0 for i in range(1,n_threads+1)})\n",
    "    \n",
    "    vars_dict['x'] = x\n",
    "    actions = [(f'count_{i}+=1', f'tmp_{i}=x', f'tmp_{i}+=1', f'x=tmp_{i}') for i in range(1, n_threads + 1)] \n",
    "    transitions = set()\n",
    "    for loc in all_locs:\n",
    "        for i in range(n_threads):\n",
    "            loc_i = loc[i]\n",
    "            if loc_i == '1' and not vars_dict[f'count_{loc_i}'] < n_repeats:\n",
    "                continue\n",
    "            action, cond, next_loc = get_single_thread_transitions(loc_i, i+1, n_repeats)\n",
    "            \n",
    "            next_loc = loc[:i] + next_loc + loc[i+1:] if i < len(loc) -1 else loc[:i] + next_loc\n",
    "            transitions.add((loc, cond, action, next_loc))\n",
    "    init_cond = 'x == 0 and '\n",
    "    init_cond += ' and '.join([f'tmp_{i} == 0 and count_{i} == 0' for i in range(1, n_threads + 1)])\n",
    "    actions = [action for sublist in actions for action in sublist]\n",
    "    pg = ProgramGraph(\n",
    "        locations=all_locs,\n",
    "        initial_locations={'1'*n_threads},\n",
    "        actions=set(actions),\n",
    "        transitions=transitions,\n",
    "        eval_fn=eval_fn,\n",
    "        effect_fn=effect_fn,\n",
    "        g0=init_cond  # Initial condition: x starts at 0\n",
    "    )\n",
    "    return pg\n",
    "            \n",
    "            \n",
    "            \n",
    "def get_single_thread_transitions(loc:Location, thread_num:int, max_repeat:int)->Tuple[Action, Condition, Location]:\n",
    "    returns = [(f'count_{thread_num}+=1', f'count_{thread_num} < {max_repeat}', f'{int(loc)+1}'), (f'tmp_{thread_num}=x', 'True', f'{int(loc)+1}'),\n",
    "               (f'tmp_{thread_num}+=1', 'True', f'{int(loc)+1}'), (f'x=tmp_{thread_num}', 'True', '1')]\n",
    "    return returns[int(loc)-1]\n",
    "    \n",
    "    \n",
    "    "
   ]
  },
  {
   "cell_type": "code",
   "execution_count": 215,
   "metadata": {},
   "outputs": [
    {
     "name": "stdout",
     "output_type": "stream",
     "text": [
      "ProgramGraph(\n",
      "  Loc: {'24', '33', '12', '43', '22', '41', '13', '34', '21', '23', '31', '42', '32', '11', '44', '14'}\n",
      "  Act: {'count_2+=1', 'x=tmp_1', 'tmp_1=x', 'tmp_2+=1', 'x=tmp_2', 'tmp_2=x', 'tmp_1+=1', 'count_1+=1'}\n",
      "  Transitions: {('21', 'count_2 < 1', 'count_2+=1', '22'), ('11', 'count_2 < 1', 'count_2+=1', '12'), ('13', 'count_1 < 1', 'count_1+=1', '23'), ('42', 'True', 'tmp_2=x', '43'), ('14', 'True', 'x=tmp_2', '11'), ('33', 'True', 'tmp_2+=1', '34'), ('34', 'True', 'tmp_1+=1', '44'), ('33', 'True', 'tmp_1+=1', '43'), ('42', 'True', 'x=tmp_1', '12'), ('43', 'True', 'tmp_2+=1', '44'), ('22', 'True', 'tmp_2=x', '23'), ('32', 'True', 'tmp_2=x', '33'), ('41', 'count_2 < 1', 'count_2+=1', '42'), ('41', 'True', 'x=tmp_1', '11'), ('12', 'True', 'tmp_2=x', '13'), ('21', 'True', 'tmp_1=x', '31'), ('13', 'True', 'tmp_2+=1', '14'), ('32', 'True', 'tmp_1+=1', '42'), ('24', 'True', 'tmp_1=x', '34'), ('23', 'True', 'tmp_2+=1', '24'), ('34', 'True', 'x=tmp_2', '31'), ('11', 'count_1 < 1', 'count_1+=1', '21'), ('24', 'True', 'x=tmp_2', '21'), ('44', 'True', 'x=tmp_1', '14'), ('44', 'True', 'x=tmp_2', '41'), ('22', 'True', 'tmp_1=x', '32'), ('23', 'True', 'tmp_1=x', '33'), ('31', 'count_2 < 1', 'count_2+=1', '32'), ('14', 'count_1 < 1', 'count_1+=1', '24'), ('43', 'True', 'x=tmp_1', '13'), ('31', 'True', 'tmp_1+=1', '41'), ('12', 'count_1 < 1', 'count_1+=1', '22')}\n",
      "  Loc0: {'11'}\n",
      "  g0: x == 0 and tmp_1 == 0 and count_1 == 0 and tmp_2 == 0 and count_2 == 0\n",
      ")\n"
     ]
    }
   ],
   "source": [
    "pg = counter_program_graph(2, 1)\n",
    "print(pg)"
   ]
  },
  {
   "cell_type": "markdown",
   "metadata": {
    "deletable": false,
    "editable": false
   },
   "source": [
    "## 🧠 Task 2: Determining Final Values of `x`\n",
    "\n",
    "### 🔍 Objective\n",
    "\n",
    "Your task is to analyze the transition system generated from the program graph (created in Task 1) and determine **all possible values** the variable `x` may have when the program **terminates**.\n",
    "\n",
    "A program execution is considered **terminated** when **all threads have returned to the first step** of their 4-step protocol and **no further transitions are possible** (i.e., the guard `count_i < n_repeats` no longer holds for any thread `i`).\n",
    "\n",
    "---\n",
    "\n",
    "### 🎯 Goal\n",
    "\n",
    "Implement the following function:\n",
    "\n",
    "```python\n",
    "def final_x_values(ts: TransitionSystem) -> List[int]:\n",
    "    \"\"\"\n",
    "    Given a transition system created from the counter program graph,\n",
    "    return a sorted list of all possible final values of x at program termination.\n",
    "    \"\"\"\n",
    "```\n",
    "\n",
    "The function should return a **sorted list** (from lowest to highest) of all values `x` can take in **terminal states**.\n",
    "\n",
    "---\n",
    "\n",
    "### 📌 Terminal State Criteria\n",
    "\n",
    "A state `(location, environment)` is terminal if:\n",
    "\n",
    "- The location is `'1' * n_threads` (i.e., all threads are at step 1), **and**\n",
    "- For every thread `i`, the condition `count_i < n_repeats` evaluates to **False** in the given environment.\n",
    "\n",
    "You should extract the value of `x` from each such terminal environment.\n",
    "\n",
    "---\n",
    "\n",
    "### 🧪 Example\n",
    "\n",
    "If `n_threads = 2` and `n_repeats = 2`, the program may terminate in multiple ways, resulting in different possible values of `x`, e.g.:\n",
    "\n",
    "```python\n",
    "[1, 2, 3, 4]\n",
    "```\n",
    "\n",
    "This means the program could terminate with `x in [1, 2, 3, 4]` when all threads complete exactly `2` iterations.\n",
    "(In other configurations, there may be non-determinism allowing early termination with smaller values.)\n"
   ]
  },
  {
   "cell_type": "code",
   "execution_count": 220,
   "metadata": {
    "ExecuteTime": {
     "end_time": "2025-03-31T11:02:12.173029Z",
     "start_time": "2025-03-31T11:02:12.169617Z"
    },
    "tags": [
     "otter_answer_cell"
    ]
   },
   "outputs": [],
   "source": [
    "def list_x_values(n_threads, n_repeats):\n",
    "    pg = counter_program_graph(n_threads=n_threads, n_repeats=n_repeats)\n",
    "    vars_dict = {f'count_{i}': {x for x in range(n_repeats)} for i in range(1,n_threads+1)}\n",
    "    vars_dict.update({f'tmp_{i}': {x for x in range(n_repeats*n_threads)} for i in range(1,n_threads+1)})\n",
    "    vars_dict['x'] = {i for i in range(n_repeats*n_threads)}\n",
    "    labels = {f'count_{i} < {n_repeats}' for i in range(1, n_threads + 1)}\n",
    "    labels.add('True')\n",
    "    ts = pg.to_transition_system(vars_dict, labels)\n",
    "    final_states = [state for state in ts.S if is_term_state(state, n_threads, n_repeats)]\n",
    "    x_values = list({env.get('x') for loc, env in final_states})\n",
    "    x_values.sort()\n",
    "    return x_values\n",
    "    \n",
    "    \n",
    "    \n",
    "    \n",
    "def is_term_state(state, n_threads, n_repeats):\n",
    "    final_loc = '1'*n_threads\n",
    "    loc, env = state\n",
    "    if loc != final_loc:\n",
    "        return False\n",
    "    for i in range(1, n_threads + 1):\n",
    "        var = f'count_{i}'\n",
    "        if env.get(var) is not None and env.get(var) < n_repeats:\n",
    "            return False\n",
    "    return True\n",
    "    "
   ]
  },
  {
   "cell_type": "code",
   "execution_count": 221,
   "metadata": {},
   "outputs": [
    {
     "data": {
      "text/plain": [
       "[2, 3, 4]"
      ]
     },
     "execution_count": 221,
     "metadata": {},
     "output_type": "execute_result"
    }
   ],
   "source": [
    "list_x_values(2, 2)"
   ]
  },
  {
   "cell_type": "code",
   "execution_count": 222,
   "metadata": {
    "deletable": false,
    "editable": false
   },
   "outputs": [
    {
     "data": {
      "text/html": [
       "<p><strong><pre style='display: inline;'>q2</pre></strong> passed! 🌟</p>"
      ],
      "text/plain": [
       "q2 results: All test cases passed!"
      ]
     },
     "execution_count": 222,
     "metadata": {},
     "output_type": "execute_result"
    }
   ],
   "source": [
    "grader.check(\"q2\")"
   ]
  },
  {
   "cell_type": "markdown",
   "metadata": {
    "deletable": false,
    "editable": false
   },
   "source": [
    "## Submission\n",
    "\n",
    "Make sure you have run all cells in your notebook in order before running the cell below, so that all images/graphs appear in the output. The cell below will generate a zip file for you to submit. **Please save before exporting!**"
   ]
  },
  {
   "cell_type": "code",
   "execution_count": 224,
   "metadata": {
    "deletable": false,
    "editable": false
   },
   "outputs": [
    {
     "data": {
      "text/html": [
       "\n",
       "                    <p>\n",
       "                        Your submission has been exported. Click\n",
       "                        <a href=\"HW2_2025_04_05T16_20_35_573871.zip\" download=\"HW2_2025_04_05T16_20_35_573871.zip\" target=\"_blank\">here</a> to download\n",
       "                        the zip file.\n",
       "                    </p>\n",
       "                "
      ],
      "text/plain": [
       "<IPython.core.display.HTML object>"
      ]
     },
     "metadata": {},
     "output_type": "display_data"
    }
   ],
   "source": [
    "# Save your notebook first, then run this cell to export your submission.\n",
    "grader.export(pdf=False)"
   ]
  },
  {
   "cell_type": "markdown",
   "metadata": {},
   "source": [
    " "
   ]
  }
 ],
 "metadata": {
  "kernelspec": {
   "display_name": "BGU",
   "language": "python",
   "name": "python3"
  },
  "language_info": {
   "codemirror_mode": {
    "name": "ipython",
    "version": 3
   },
   "file_extension": ".py",
   "mimetype": "text/x-python",
   "name": "python",
   "nbconvert_exporter": "python",
   "pygments_lexer": "ipython3",
   "version": "3.12.2"
  },
  "otter": {
   "OK_FORMAT": true,
   "assignment_name": "hw02,",
   "tests": {
    "q1": {
     "name": "q1",
     "points": null,
     "suites": [
      {
       "cases": [
        {
         "code": ">>> def create_ts():\n...     def eval_fn(cond, env):\n...         \"\"\"Evaluates a condition string in a given environment dictionary.\"\"\"\n...         try:\n...             return eval(cond, {}, env)\n...         except:\n...             return False\n...     def effect_fn(action, env):\n...         \"\"\"Applies an action (which modifies variables) and returns a new environment.\"\"\"\n...         new_env = env.copy()\n...         try:\n...             exec(action, {}, new_env)\n...         except:\n...             pass\n...         return new_env\n...     pg = ProgramGraph(locations={'L0', 'L1'}, initial_locations={'L0'}, actions={'x += 1', 'x -= 1'}, transitions={('L0', 'x > 0', 'x -= 1', 'L1'), ('L1', 'x < 5', 'x += 1', 'L0')}, eval_fn=eval_fn, effect_fn=effect_fn, g0='x >= 2')\n...     vars = {'x': {0, 1, 2, 3, 4, 5}}\n...     labels = {'x > 0', 'x < 5'}\n...     ts = pg.to_transition_system(vars, labels)\n...     return ts\n>>> def test_states_are_tuples():\n...     \"\"\"Test that all states in the Transition System are correctly formatted as (loc, env).\"\"\"\n...     ts = create_ts()\n...     assert all((isinstance(state, tuple) and len(state) == 2 for state in ts.S)), 'States must be tuples (loc, env)'\n...     assert all((isinstance(state[1], HashableDict) for state in ts.S)), 'Environment must be a HashableDict'\n>>> def test_initial_states_valid():\n...     \"\"\"Test that initial states satisfy g0: x >= 2\"\"\"\n...     ts = create_ts()\n...     for state in ts.I:\n...         (loc, env) = state\n...         assert loc in {'L0', 'L1'}, 'Initial state location must be within program locations'\n...         assert eval('x >= 2', {}, env), f\"Initial condition g0='x >= 2' must hold, but failed for state {state}\"\n>>> def test_valid_transitions():\n...     \"\"\"Test that all transitions follow the rules of the program graph and correctly update environments.\"\"\"\n...     ts = create_ts()\n...     for (s_from, action, s_to) in ts.Transitions:\n...         (loc_from, env_from) = s_from\n...         (loc_to, env_to) = s_to\n...         assert loc_from in {'L0', 'L1'}, f'Transition from an invalid location: {loc_from}'\n...         assert loc_to in {'L0', 'L1'}, f'Transition to an invalid location: {loc_to}'\n...         assert action in {'x += 1', 'x -= 1'}, f'Invalid action in transition: {action}'\n...         expected_env_to = HashableDict(env_from.copy())\n...         exec(action, {}, expected_env_to)\n...         assert env_to == expected_env_to, f'Action {action} did not produce expected state: got {env_to}, expected {expected_env_to}'\n>>> def test_labeling_function():\n...     \"\"\"Test that the labeling function correctly assigns labels to states.\"\"\"\n...     ts = create_ts()\n...     for (state, labels) in ts._L.items():\n...         (loc, env) = state\n...         expected_labels = {loc} | {l for l in {'x > 0', 'x < 5'} if eval(l, {}, env)}\n...         assert labels == expected_labels, f'Labeling mismatch for state {state}: expected {expected_labels}, got {labels}'\n>>> def test_reachability():\n...     \"\"\"Test that all states in S are reachable from initial states.\"\"\"\n...     ts = create_ts()\n...     reachable_states = set(ts.I)\n...     worklist = list(ts.I)\n...     while worklist:\n...         current = worklist.pop()\n...         for (_, action, next_state) in ts.Transitions:\n...             if next_state not in reachable_states:\n...                 reachable_states.add(next_state)\n...                 worklist.append(next_state)\n...     assert reachable_states == ts.S, 'Not all states are reachable from the initial states'\n>>> test_states_are_tuples()\n>>> test_initial_states_valid()\n>>> test_valid_transitions()\n>>> test_labeling_function()\n>>> test_reachability()\n",
         "hidden": false,
         "locked": false
        },
        {
         "code": ">>> def test_pg_to_ts():\n...     def eval_fn(cond, env):\n...         return eval(cond, {}, env)\n...     def effect_fn(action, env):\n...         new_env = env.copy()\n...         exec(action, {}, new_env)\n...         return new_env\n...     pg = ProgramGraph(locations={'L0', 'L1'}, initial_locations={'L0'}, actions={'x += 1', 'x -= 1'}, transitions={('L0', 'x > 0', 'x -= 1', 'L1'), ('L1', 'x < 5', 'x += 1', 'L0')}, eval_fn=eval_fn, effect_fn=effect_fn, g0='x >= 2')\n...     vars = {'x': {0, 1, 2, 3, 4, 5}}\n...     labels = {'x > 0', 'x < 5'}\n...     ts = pg.to_transition_system(vars, labels)\n...     assert len(ts.S) > 0, 'Transition system should have states'\n...     assert len(ts.Transitions) > 0, 'Transition system should have transitions'\n...     assert 'L0' in ts.AP, 'Atomic propositions should include locations'\n>>> test_pg_to_ts()\n",
         "hidden": false,
         "locked": false
        }
       ],
       "scored": true,
       "setup": "",
       "teardown": "",
       "type": "doctest"
      }
     ]
    },
    "q2": {
     "name": "q2",
     "points": null,
     "suites": [
      {
       "cases": [
        {
         "code": ">>> import itertools as it\n>>> def test_locations():\n...     pg = counter_program_graph(2, 3)\n...     expected_locations = {''.join(map(str, comb)) for comb in it.product(range(1, 5), repeat=2)}\n...     assert pg.Loc == expected_locations, 'Locations do not match expected combinations.'\n>>> def test_initial_location():\n...     pg = counter_program_graph(3, 2)\n...     expected = {'111'}\n...     assert pg.Loc0 == expected, \"Initial location should be '111' for 3 threads.\"\n>>> def test_actions():\n...     pg = counter_program_graph(2, 3)\n...     expected_actions = {'count_1+=1', 'tmp_1=x', 'tmp_1+=1', 'x=tmp_1', 'count_2+=1', 'tmp_2=x', 'tmp_2+=1', 'x=tmp_2'}\n...     assert pg.Act == expected_actions, 'Actions not correctly assigned.'\n>>> def test_transitions_sample():\n...     pg = counter_program_graph(2, 3)\n...     assert ('11', 'count_1 < 3', 'count_1+=1', '21') in pg.Transitions\n...     assert ('21', 'True', 'tmp_1=x', '31') in pg.Transitions\n...     assert ('31', 'True', 'tmp_1+=1', '41') in pg.Transitions\n...     assert ('41', 'True', 'x=tmp_1', '11') in pg.Transitions\n>>> def test_g0_expression():\n...     pg = counter_program_graph(2, 3)\n...     expected = 'x == 0 and tmp_1 == 0 and count_1 == 0 and tmp_2 == 0 and count_2 == 0'\n...     assert pg.g0 == expected, 'Initial condition (g0) is incorrect.'\n>>> test_locations()\n>>> test_initial_location()\n>>> test_actions()\n>>> test_transitions_sample()\n>>> test_g0_expression()\n",
         "hidden": false,
         "locked": false
        },
        {
         "code": ">>> def test_list_x_values_correctness():\n...     \"\"\"Check that list_x_values returns the correct set of terminal x values for 2 threads, 2 repeats.\"\"\"\n...     result = list_x_values(2, 2)\n...     expected = [2, 3, 4]\n...     assert result == expected, f'Expected {expected}, but got {result}'\n>>> def test_list_x_values_correctness2():\n...     result = list_x_values(3, 2)\n...     expected = [2, 3, 4, 5, 6]\n...     assert result == expected, f'Expected {expected}, but got {result}'\n>>> def test_list_x_values_is_sorted():\n...     \"\"\"Ensure the result of list_x_values is sorted.\"\"\"\n...     result = list_x_values(2, 2)\n...     assert result == sorted(result), 'Returned x values should be sorted in ascending order.'\n>>> def test_list_x_values_type_and_content():\n...     \"\"\"Check result is a list of integers.\"\"\"\n...     result = list_x_values(2, 2)\n...     assert isinstance(result, list), 'Result should be a list'\n...     assert all((isinstance(x, int) for x in result)), 'All elements should be integers'\n>>> test_list_x_values_correctness()\n>>> test_list_x_values_correctness2()\n>>> test_list_x_values_is_sorted()\n>>> test_list_x_values_type_and_content()\n",
         "hidden": false,
         "locked": false
        }
       ],
       "scored": true,
       "setup": "",
       "teardown": "",
       "type": "doctest"
      }
     ]
    }
   }
  }
 },
 "nbformat": 4,
 "nbformat_minor": 0
}
