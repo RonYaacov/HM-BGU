{
 "cells": [
  {
   "cell_type": "code",
   "execution_count": 2,
   "metadata": {
    "ExecuteTime": {
     "end_time": "2025-03-31T15:34:28.799685Z",
     "start_time": "2025-03-31T15:34:28.115174Z"
    }
   },
   "outputs": [],
   "source": [
    "import sys\n",
    "import otter\n",
    "\n",
    "# try:\n",
    "#   import otterdd\n",
    "# except ImportError:\n",
    "#     %pip install otter-grader\n",
    "#     import otter\n",
    "\n",
    "grader = otter.Notebook(\"HWB1.ipynb\")"
   ]
  },
  {
   "cell_type": "markdown",
   "metadata": {
    "deletable": false,
    "editable": false,
    "id": "TI1jvGE6vzP4"
   },
   "source": [
    "## 🧠 Bonus: Converting Digital Circuits to Transition Systems"
   ]
  },
  {
   "cell_type": "markdown",
   "metadata": {
    "deletable": false,
    "editable": false
   },
   "source": [
    "### 🔍 Objective\n",
    "\n",
    "In this assignment, you will implement a method to convert a simple **digital circuit** into a **transition system**. The goal is to capture the behavior of a circuit under all possible input combinations and internal register states.\n",
    "\n",
    "---\n",
    "\n",
    "### 🧩 Problem Setup\n",
    "\n",
    "You are given a class `Circuit` with the following structure:\n",
    "\n",
    "```python\n",
    "class Circuit:\n",
    "    def __init__(self, X, R, Y, update_registers, compute_outputs):\n",
    "        ...\n",
    "```\n",
    "\n",
    "- `X`: Number of binary input bits\n",
    "- `R`: Number of binary registers (internal state bits)\n",
    "- `Y`: Number of binary output bits\n",
    "- `update_registers`: A function that computes the next register state based on inputs and current registers\n",
    "- `compute_outputs`: A function that computes outputs based on inputs and current registers\n",
    "\n",
    "Your task is to implement the method:\n",
    "\n",
    "```python\n",
    "def to_transition_system(self) -> TransitionSystem:\n",
    "    ...\n",
    "```\n",
    "\n",
    "This method constructs a transition system representing the circuit’s behavior.\n",
    "\n",
    "---\n"
   ]
  },
  {
   "cell_type": "markdown",
   "metadata": {
    "deletable": false,
    "editable": false
   },
   "source": [
    "### 🔧 Transition System Specification\n",
    "\n",
    "The transition system should include the following components:\n",
    "\n",
    "#### ✅ States (`S`)\n",
    "- A state is a pair `(X, R)`, representing a combination of input values and register values.\n",
    "- Enumerate all possible Boolean combinations.\n",
    "- Input values and register values should be tuples of Booleans.\n",
    "\n",
    "#### ✅ Actions (`Act`)\n",
    "- Actions correspond to all possible values of the input vector `X`.\n",
    "\n",
    "#### ✅ Transitions (`T`)\n",
    "- Each transition `(s, a, s')` represents moving from state `s` to `s'` by applying input `a`.\n",
    "- `s = (X_old, R_old)`, `a = X_new`, `s' = (X_new, update_registers(X_old, R_old))`\n",
    "\n",
    "#### ✅ Initial States (`I`)\n",
    "- All states where the register vector is initialized to all `False` (`0`), and `X` can be any combination.\n",
    "\n",
    "#### ✅ Atomic Propositions (`AP`)\n",
    "- APs should include:\n",
    "  - Each input bit: `x1`, `x2`, ..., `xN`\n",
    "  - Each register bit: `r1`, `r2`, ..., `rM`\n",
    "  - Each output bit: `y1`, `y2`, ..., `yK`\n",
    "\n",
    "#### ✅ Labeling Function (`L`)\n",
    "- Labels for a state `(X, R)` should include:\n",
    "  - Inputs `xi` that are `1`\n",
    "  - Registers `ri` that are `1`\n",
    "  - Outputs `yi` that are `1`\n",
    "\n",
    "\n",
    "---\n"
   ]
  },
  {
   "cell_type": "markdown",
   "metadata": {
    "deletable": false,
    "editable": false
   },
   "source": [
    "### 🧪 Example\n",
    "\n",
    "For a circuit with:\n",
    "- 1 input: `X = 1`\n",
    "- 1 register: `R = 1`\n",
    "- 1 output: `Y = 1`\n",
    "\n",
    "If `update_registers(X, R)` = `X`, and `compute_outputs(X, R)` = `R`, then:\n",
    "\n",
    "- Initial states: `[(True, False), (False, False)]`\n",
    "- Action space: `[(True,), (False,)]`\n",
    "- A transition from `(True, False)` with action `(False,)` goes to `(False, True)`.\n",
    "\n",
    "---"
   ]
  },
  {
   "cell_type": "code",
   "execution_count": 20,
   "metadata": {},
   "outputs": [],
   "source": [
    "import networkx as nx\n",
    "import matplotlib.pyplot as plt\n",
    "from typing import Set, Dict, Tuple, Union, Optional\n",
    "from queue import Queue\n",
    "\n",
    "State = Union[str, Tuple]  # A state can be a string or a tuple (location, environment)\n",
    "Action = str  # Actions are represented as strings\n",
    "Transition = Tuple[State, Action, State]  # (source_state, action, target_state)\n",
    "LabelingMap = Dict[State, Set[str]]  # Maps states to atomic propositions\n",
    "\n",
    "\n",
    "class TransitionSystem:\n",
    "    \"\"\"\n",
    "    A Transition System (TS) representation.\n",
    "\n",
    "    Attributes:\n",
    "        S (Set[State]): The set of all states (strings or tuples).\n",
    "        Act (Set[Action]): The set of all possible actions.\n",
    "        Transitions (Set[Transition]): The set of transitions, each represented as (state_origin, action, state_target).\n",
    "        I (Set[State]): The set of initial states.\n",
    "        AP (Set[str]): The set of atomic propositions.\n",
    "        _L (LabelingMap): A dictionary mapping states to their respective atomic propositions.\n",
    "    \"\"\"\n",
    "\n",
    "    def __init__(\n",
    "        self,\n",
    "        states: Optional[Set[State]] = None,\n",
    "        actions: Optional[Set[Action]] = None,\n",
    "        transitions: Optional[Set[Transition]] = None,\n",
    "        initial_states: Optional[Set[State]] = None,\n",
    "        atomic_props: Optional[Set[str]] = None,\n",
    "        labeling_map: Optional[LabelingMap] = None,\n",
    "    ) -> None:\n",
    "        \"\"\"\n",
    "        Initializes the Transition System.\n",
    "\n",
    "        :param states: A set of states (each a string or a tuple). Defaults to an empty set.\n",
    "        :param actions: A set of actions. Defaults to an empty set.\n",
    "        :param transitions: A set of transitions, each as (state_origin, action, state_target). Defaults to an empty set.\n",
    "        :param initial_states: A set of initial states. Defaults to an empty set.\n",
    "        :param atomic_props: A set of atomic propositions. Defaults to an empty set.\n",
    "        :param labeling_map: A dictionary mapping states to sets of atomic propositions. Defaults to an empty dictionary.\n",
    "        \"\"\"\n",
    "        self.S: Set[State] = set(states) if states is not None else set()\n",
    "        self.Act: Set[Action] = set(actions) if actions is not None else set()\n",
    "        self.Transitions: Set[Transition] = set(transitions) if transitions is not None else set()\n",
    "        self.I: Set[State] = set(initial_states) if initial_states is not None else set()\n",
    "        self.AP: Set[str] = set(atomic_props) if atomic_props is not None else set()\n",
    "        self._L: LabelingMap = dict(labeling_map) if labeling_map is not None else {}\n",
    "\n",
    "    def add_state(self, *states: State) -> \"TransitionSystem\":\n",
    "        \"\"\"\n",
    "        Adds one or more states to the transition system.\n",
    "\n",
    "        :param states: One or more states (strings or tuples) to be added.\n",
    "        :return: The TransitionSystem instance (for method chaining).\n",
    "        \"\"\"\n",
    "        for state in states:\n",
    "            self.S.add(state)\n",
    "        return self\n",
    "\n",
    "    def add_action(self, *actions: Action) -> \"TransitionSystem\":\n",
    "        \"\"\"\n",
    "        Adds one or more actions to the transition system.\n",
    "\n",
    "        :param actions: One or more actions (strings) to be added.\n",
    "        :return: The TransitionSystem instance (for method chaining).\n",
    "        \"\"\"\n",
    "        self.Act.update(actions)\n",
    "        return self\n",
    "\n",
    "    def add_transition(self, *transitions: Transition) -> \"TransitionSystem\":\n",
    "        \"\"\"\n",
    "        Adds one or more transitions to the transition system.\n",
    "        Ensures that all involved states and actions exist before adding the transitions.\n",
    "\n",
    "        Each transition must be provided as a tuple of the form `(state_from, action, state_to)`, where:\n",
    "        - `state_from` is the source state.\n",
    "        - `action` is the action performed.\n",
    "        - `state_to` is the resulting state.\n",
    "\n",
    "        :param transitions: One or more transitions, each as a tuple `(state_from, action, state_to)`.\n",
    "        :raises ValueError:\n",
    "            - If a transition is not a tuple of length 3.\n",
    "            - If `state_from` or `state_to` does not exist in `self.S`.\n",
    "            - If `action` is not in `self.Act`.\n",
    "        :return: The `TransitionSystem` instance (for method chaining).\n",
    "        \"\"\"\n",
    "        for transition in transitions:\n",
    "            if not isinstance(transition, tuple) or len(transition) != 3:\n",
    "                raise ValueError(f\"Invalid transition: {transition}\")\n",
    "            if transition[0] not in self.S:\n",
    "                raise ValueError(f\"State {transition[0]} is not in the transition system.\")\n",
    "            if transition[2] not in self.S:\n",
    "                raise ValueError(f\"State {transition[2]} is not in the transition system.\")\n",
    "            if transition[1] not in self.Act:\n",
    "                raise ValueError(f\"Action {transition[1]} is not in the transition system.\")\n",
    "        self.Transitions.update(transitions)\n",
    "        return self\n",
    "            \n",
    "    def add_initial_state(self, *states: State) -> \"TransitionSystem\":\n",
    "        \"\"\"\n",
    "        Adds one or more states to the set of initial states.\n",
    "\n",
    "        :param states: One or more states to be marked as initial.\n",
    "        :raises ValueError: If any state does not exist in the system.\n",
    "        :return: The TransitionSystem instance (for method chaining).\n",
    "        \"\"\"\n",
    "        if any(state not in self.S for state in states):\n",
    "            raise ValueError(f\"Initial state {states[0]} must be in the transition system.\")\n",
    "        self.I.update(states)\n",
    "        return self\n",
    "\n",
    "    def add_atomic_proposition(self, *props: str) -> \"TransitionSystem\":\n",
    "        \"\"\"\n",
    "        Adds one or more atomic propositions to the transition system.\n",
    "\n",
    "        :param props: One or more atomic propositions (strings) to be added.\n",
    "        :return: The TransitionSystem instance (for method chaining).\n",
    "        \"\"\"\n",
    "        self.AP.update(props)\n",
    "        return self\n",
    "\n",
    "    def add_label(self, state: State, *labels: str) -> \"TransitionSystem\":\n",
    "        \"\"\"\n",
    "        Adds one or more atomic propositions to a given state.\n",
    "\n",
    "        :param state: The state to label.\n",
    "        :param labels: One or more atomic propositions to be assigned to the state.\n",
    "        :raises ValueError: If the state is not in the system or if any label is not a valid atomic proposition.\n",
    "        :return: The TransitionSystem instance (for method chaining).\n",
    "        \"\"\"\n",
    "        if state not in self.S:\n",
    "            raise ValueError(f\"Cannot set labels for {state}. State is not in the transition system.\")\n",
    "        if any(label not in self.AP for label in labels):\n",
    "            invalid_labels = {label for label in labels if label not in self.AP}\n",
    "            raise ValueError(f\"Cannot assign labels {invalid_labels}. They are not in the set of atomic propositions (AP).\")\n",
    "        if state not in self._L:\n",
    "            self._L[state] = set()\n",
    "        self._L[state].update(labels)\n",
    "        return self\n",
    "\n",
    "    def L(self, state: State) -> Set[str]:\n",
    "        \"\"\"\n",
    "        Retrieves the set of atomic propositions that hold in a given state.\n",
    "\n",
    "        :param state: The state whose atomic propositions are being retrieved.\n",
    "        :raises ValueError: If the state is not in the transition system.\n",
    "        :return: A set of atomic propositions associated with the given state.\n",
    "        \"\"\"\n",
    "        if state not in self.S:\n",
    "            raise ValueError(f\"State {state} is not in the transition system.\")\n",
    "        return self._L.get(state, set())\n",
    "\n",
    "    def pre(self, S: Union[State, Set[State]], action: Optional[Action] = None) -> Set[State]:\n",
    "        \"\"\"\n",
    "        Computes the set of predecessor states from which a given state or set of states can be reached.\n",
    "\n",
    "        :param S: A single state (string/tuple) or a collection of states.\n",
    "        :param action: (Optional) If provided, filters only the transitions that use this action.\n",
    "        :return: A set of predecessor states.\n",
    "        \"\"\"\n",
    "        actions = {action} if action is not None else self.Act\n",
    "        return {state_from for state_from, a, state_to in self.Transitions if state_to in S and a in actions}\n",
    "\n",
    "    def post(self, S: Union[State, Set[State]], action: Optional[Action] = None) -> Set[State]:\n",
    "        \"\"\"\n",
    "        Computes the set of successor states reachable from a given state or a collection of states.\n",
    "\n",
    "        :param S: A single state or a collection of states.\n",
    "        :param action: (Optional) Filters transitions by this action.\n",
    "        :return: A set of successor states.\n",
    "        \"\"\"\n",
    "        actions = {action} if action is not None else self.Act\n",
    "        states = set()\n",
    "        for  state_from, a, state_to in self.Transitions:\n",
    "             if (state_from in S or state_from == S) and a in actions:\n",
    "                states.add(state_to)\n",
    "        return states\n",
    "\n",
    "    def reach(self) -> Set[State]:\n",
    "        \"\"\"\n",
    "        Computes the set of all reachable states from the initial states.\n",
    "\n",
    "        :return: A set of reachable states.\n",
    "        \"\"\"\n",
    "        # BFS to find reachable states\n",
    "        visited = set()\n",
    "        reachable = set(self.I)\n",
    "        q = Queue()\n",
    "        for state in self.I:\n",
    "            q.put(state)\n",
    "        while not q.empty():\n",
    "            state = q.get()\n",
    "            if state in visited:\n",
    "                continue\n",
    "            visited.add(state)\n",
    "            successors = self.post(state)\n",
    "            reachable.update(successors)\n",
    "            for succ in successors:\n",
    "                q.put(succ)\n",
    "        return reachable\n",
    "\n",
    "    def is_action_deterministic(self) -> bool:\n",
    "        \"\"\"\n",
    "        Checks whether the transition system is action-deterministic.\n",
    "\n",
    "        A transition system is action-deterministic if:\n",
    "        - It has at most one initial state.\n",
    "        - For each state and action, there is at most one successor state.\n",
    "\n",
    "        :return: True if the transition system is action-deterministic, False otherwise.\n",
    "        \"\"\"\n",
    "        if len(self.I) > 1:\n",
    "            return False\n",
    "        source_trans = set()\n",
    "        for transition in self.Transitions:\n",
    "            source, action, target = transition\n",
    "            if (source, action) in source_trans:\n",
    "                return False\n",
    "            source_trans.add((source, action))\n",
    "        return True\n",
    "        \n",
    "\n",
    "    def is_label_deterministic(self) -> bool:\n",
    "        \"\"\"\n",
    "        Checks whether the transition system is label-deterministic.\n",
    "\n",
    "        A transition system is label-deterministic if:\n",
    "        - It has at most one initial state.\n",
    "        - For each state, the number of reachable successor states is equal to the number of unique label sets\n",
    "          of these successor states.\n",
    "\n",
    "        :return: True if the transition system is label-deterministic, False otherwise.\n",
    "        \"\"\"\n",
    "        if len(self.I) > 1:\n",
    "            return False\n",
    "        for state in self.S:\n",
    "            successors = self.post(state)\n",
    "            unique_labels = {frozenset(self.L(succ)) for succ in successors}\n",
    "            if len(successors) != len(unique_labels):\n",
    "                return False\n",
    "        return True\n",
    "                \n",
    "\n",
    "    def __repr__(self) -> str:\n",
    "        \"\"\"\n",
    "        Returns a string representation of the Transition System.\n",
    "\n",
    "        :return: A formatted string representation of the TS.\n",
    "        \"\"\"\n",
    "        return (\n",
    "            f\"TransitionSystem(\\n\"\n",
    "            f\"  States: {self.S}\\n\"\n",
    "            f\"  Actions: {self.Act}\\n\"\n",
    "            f\"  Transitions: {len(self.Transitions)}\\n\"\n",
    "            f\"  Initial States: {self.I}\\n\"\n",
    "            f\"  Atomic Propositions: {self.AP}\\n\"\n",
    "            f\"  Labels: {self._L}\\n\"\n",
    "            f\")\"\n",
    "        )\n",
    "\n",
    "\n",
    "    def plot(self, title: str = \"Transition System\", figsize: Tuple[int, int] = (10, 6)) -> None:\n",
    "        \"\"\"\n",
    "        Plots the Transition System as a directed graph.\n",
    "\n",
    "        :param title: Title of the plot.\n",
    "        :param figsize: Figure size for the plot.\n",
    "        \"\"\"\n",
    "        G = nx.DiGraph()\n",
    "\n",
    "        # Add nodes (states)\n",
    "        for state in self.S:\n",
    "            label = f\"{state}\\n{' '.join(self.L(state))}\" if self.L(state) else str(state)\n",
    "            print(label)\n",
    "            G.add_node(state, label=label, color=\"blue\" if state in self.I else \"yellow\")\n",
    "\n",
    "        # Add edges (transitions)\n",
    "        for state_from, action, state_to in self.Transitions:\n",
    "            G.add_edge(state_from, state_to, label=action)\n",
    "\n",
    "        plt.figure(figsize=figsize)\n",
    "        pos = nx.spring_layout(G)  # Positioning algorithm for layout\n",
    "\n",
    "        # Draw nodes\n",
    "        node_colors = [G.nodes[n][\"color\"] for n in G.nodes]\n",
    "        nx.draw(G, pos, with_labels=True, labels=nx.get_node_attributes(G, \"label\"), node_color=node_colors, edgecolors=\"black\", node_size=2000, font_size=10)\n",
    "\n",
    "        # Draw edge labels (actions)\n",
    "        edge_labels = {(u, v): d[\"label\"] for u, v, d in G.edges(data=True)}\n",
    "        nx.draw_networkx_edge_labels(G, pos, edge_labels=edge_labels, font_size=9)\n",
    "\n",
    "        plt.title(title)\n",
    "        plt.show()\n"
   ]
  },
  {
   "cell_type": "code",
   "execution_count": null,
   "metadata": {
    "ExecuteTime": {
     "end_time": "2025-03-31T15:34:29.163051Z",
     "start_time": "2025-03-31T15:34:28.805120Z"
    },
    "id": "Yr4ZoKdZtQzk",
    "tags": [
     "otter_answer_cell"
    ]
   },
   "outputs": [],
   "source": [
    "# Add your imports here\n",
    "import itertools\n",
    "\n",
    "\n",
    "\n",
    "class Circuit:\n",
    "    def __init__(self, X, R, Y, update_registers, compute_outputs):\n",
    "        self.X = X\n",
    "        self.R = R\n",
    "        self.Y = Y\n",
    "        self._update_registers = update_registers\n",
    "        self._compute_outputs = compute_outputs\n",
    "\n",
    "    def update_registers(self, X, R):\n",
    "        \"\"\"\n",
    "        Evaluates the circuit given input values and register values.\n",
    "\n",
    "        :return: new_registers\n",
    "        \"\"\"\n",
    "       \n",
    "        return self._update_registers(X, R)\n",
    "\n",
    "    def compute_outputs(self, X, R):\n",
    "        \"\"\"\n",
    "        Computes the output values of the circuit given input values and register values.\n",
    "\n",
    "        :return:  output_values\n",
    "        \"\"\"\n",
    "        return self._compute_outputs(X, R)\n",
    "    \n",
    "    def lable_state(self, state):\n",
    "        lables = set()\n",
    "        inputs = state[0]\n",
    "        registers = state[1]\n",
    "        outputs = self.compute_outputs(inputs, registers)\n",
    "        lables.update({f'x{index+1}' for index, input_val in enumerate(inputs) if input_val})\n",
    "        lables.update({f'r{index+1}' for index, register_val in enumerate(registers) if register_val})\n",
    "        lables.update({f'y{index+1}' for index, output_val in enumerate(outputs) if output_val})\n",
    "        return lables\n",
    "    \n",
    "    def generate_states(self, X, R):\n",
    "        return set(itertools.product(\n",
    "            itertools.product([False, True], repeat=X), \n",
    "            itertools.product([False, True], repeat=R)\n",
    "        ))\n",
    "    \n",
    "    def to_transition_system(self):\n",
    "        \"\"\"\n",
    "        Converts the circuit to a transition system.\n",
    "\n",
    "        :return: transition_system\n",
    "        \"\"\"\n",
    "        inputs = set(itertools.product([True, False], repeat=self.X))\n",
    "        states = self.generate_states(self.X, self.R)\n",
    "        init_rgisters = tuple([False]* self.R)\n",
    "        transitions = set()\n",
    "        for state in states:\n",
    "            for action in inputs:\n",
    "                transitions.add((state, action, (action, self.update_registers(state[0], state[1]))))\n",
    "        # Create a transition system with the given input values, register values, and output values\n",
    "        init_states = {(input_, init_rgisters) for input_ in inputs}\n",
    "        atomic_props = set()\n",
    "        atomic_props.update([f'x{i+1}'for i in range(self.X)])\n",
    "        atomic_props.update([f'r{i+1}'for i in range(self.R)])\n",
    "        atomic_props.update([f'y{i+1}'for i in range(self.Y)])\n",
    "        labling = {state: self.lable_state(state) for state in states}\n",
    "        ts = TransitionSystem(states, inputs, transitions, init_states, atomic_props, labling)\n",
    "        \n",
    "        return ts\n"
   ]
  },
  {
   "cell_type": "markdown",
   "metadata": {
    "deletable": false,
    "editable": false
   },
   "source": [
    "## 🔧 Example: Using `Circuit` and Converting to a `TransitionSystem`\n",
    "\n",
    "This example demonstrates how to define a simple digital circuit, convert it into a transition system, and inspect its components.\n",
    "\n",
    "### 🧩 Step 1: Define Update and Output Functions\n",
    "\n",
    "```python\n",
    "# Update function: register stores the current input\n",
    "def update_registers(X, R):\n",
    "    return (X[0],)\n",
    "\n",
    "# Output function: output is equal to the register value\n",
    "def compute_outputs(X, R):\n",
    "    return (R[0],)\n",
    "```\n",
    "\n",
    "---\n",
    "\n",
    "### 🧩 Step 2: Create the Circuit and Convert\n",
    "\n",
    "```python\n",
    "# Create a circuit with 1 input, 1 register, 1 output\n",
    "circuit = Circuit(X=1, R=1, Y=1, update_registers=update_registers, compute_outputs=compute_outputs)\n",
    "\n",
    "# Convert the circuit to a transition system\n",
    "ts = circuit.to_transition_system()\n",
    "```\n",
    "\n",
    "---\n",
    "\n",
    "### 🔍 Step 3: Explore the Transition System\n",
    "\n",
    "```python\n",
    "# Print states, actions, initial states, and transitions\n",
    "print(\"States:\", ts.S)\n",
    "print(\"Actions:\", ts.Act)\n",
    "print(\"Initial States:\", ts.I)\n",
    "\n",
    "print(\"Some Transitions:\")\n",
    "for t in list(ts.Transitions)[:4]:\n",
    "    print(\"  \", t)\n",
    "\n",
    "# Print labels for one state\n",
    "print(\"Labels for first state:\", ts.L(next(iter(ts.S))))\n",
    "```\n",
    "\n",
    "---\n",
    "\n",
    "### ✅ Expected Output (Example)\n",
    "\n",
    "```\n",
    "States: [((False,), (False,)),\n",
    "         ((False,), (True,)),\n",
    "         ((True,), (False,)),\n",
    "         ((True,), (True,))]\n",
    "Actions: {(False,), (True,)}\n",
    "Initial States: {((False,), (False,)),\n",
    "                 ((True,), (False,))}\n",
    "Some Transitions:\n",
    "   (((False,), (False,)), (True,), ((True,), (False,)))\n",
    "   (((False,), (True,)), (True,), ((True,), (False,)))\n",
    "   (((True,), (False,)), (False,), ((False,), (True,)))\n",
    "   (((True,), (True,)), (False,), ((False,), (True,)))\n",
    "Labels for first state: {'x1', 'r1', 'y1'}\n",
    "```\n",
    "\n",
    "This illustrates that:\n",
    "- Each transition updates the register based on the **previous input**\n",
    "- Labels correctly reflect inputs (`x1`), registers (`r1`), and outputs (`y1`) that are `True`\n",
    "\n"
   ]
  },
  {
   "cell_type": "code",
   "execution_count": 66,
   "metadata": {
    "ExecuteTime": {
     "end_time": "2025-03-31T15:34:29.237500Z",
     "start_time": "2025-03-31T15:34:29.234390Z"
    },
    "deletable": false,
    "editable": false
   },
   "outputs": [
    {
     "name": "stdout",
     "output_type": "stream",
     "text": [
      "States: {((True,), (False,)), ((False,), (False,)), ((True,), (True,)), ((False,), (True,))}\n",
      "Actions: {(False,), (True,)}\n",
      "Initial States: {((False,), (False,)), ((True,), (False,))}\n",
      "Some Transitions:\n",
      "   (((True,), (False,)), (False,), ((False,), (True,)))\n",
      "   (((False,), (False,)), (True,), ((True,), (False,)))\n",
      "   (((False,), (False,)), (False,), ((False,), (False,)))\n",
      "   (((True,), (False,)), (True,), ((True,), (True,)))\n",
      "Labels for first state: {'x1'}\n"
     ]
    }
   ],
   "source": [
    "# Define the update function: the register stores the current input\n",
    "def update_registers(X, R):\n",
    "    return (X[0],)  # one-bit register updated to match input\n",
    "\n",
    "# Define the output function: output is just the current register value\n",
    "def compute_outputs(X, R):\n",
    "    return (R[0],)\n",
    "\n",
    "# Create the circuit: 1 input, 1 register, 1 output\n",
    "circuit = Circuit(X=1, R=1, Y=1, update_registers=update_registers, compute_outputs=compute_outputs)\n",
    "\n",
    "# Convert to transition system\n",
    "ts = circuit.to_transition_system()\n",
    "\n",
    "# Print details\n",
    "print(\"States:\", ts.S)\n",
    "print(\"Actions:\", ts.Act)\n",
    "print(\"Initial States:\", ts.I)\n",
    "print(\"Some Transitions:\")\n",
    "for t in list(ts.Transitions)[:4]:\n",
    "    print(\"  \", t)\n",
    "print(\"Labels for first state:\", ts.L(next(iter(ts.S))))\n"
   ]
  },
  {
   "cell_type": "code",
   "execution_count": 67,
   "metadata": {
    "deletable": false,
    "editable": false
   },
   "outputs": [
    {
     "data": {
      "text/html": [
       "<p><strong><pre style='display: inline;'>q1</pre></strong> passed! ✨</p>"
      ],
      "text/plain": [
       "q1 results: All test cases passed!"
      ]
     },
     "execution_count": 67,
     "metadata": {},
     "output_type": "execute_result"
    }
   ],
   "source": [
    "grader.check(\"q1\")"
   ]
  },
  {
   "cell_type": "markdown",
   "metadata": {
    "deletable": false,
    "editable": false
   },
   "source": [
    "## 🎮 Question 2: 7-Boom Counter Circuit"
   ]
  },
  {
   "cell_type": "markdown",
   "metadata": {
    "deletable": false,
    "editable": false
   },
   "source": [
    "### 🔍 Objective\n",
    "\n",
    "In this task, you will implement a digital circuit that models the classic **\"7-Boom\"** game logic:\n",
    "- Count upward from 0 to 7\n",
    "- When reaching 7, say \"Boom!\", then reset to 0\n",
    "\n",
    "You will model this behavior in a `Circuit` object and convert it to a transition system.\n",
    "\n",
    "---\n",
    "\n",
    "### 🧩 Circuit Specification\n",
    "\n",
    "- **Inputs (`X`)**: 1 bit\n",
    "  - `x = 1` means increment the counter\n",
    "  - `x = 0` means hold the current value\n",
    "\n",
    "- **Registers (`R`)**: 3 bits\n",
    "  - These bits represent a counter from `0` to `7` (in binary)\n",
    "\n",
    "- **Output (`Y`)**: 1 bit\n",
    "  - `y = 1` **only when** the counter reaches 8 (i.e., after 7 + 1)\n",
    "  - Once the counter reaches 8, it immediately resets to 0\n",
    "\n",
    "---\n",
    "\n",
    "### 🧪 Behavior Examples\n",
    "\n",
    "| Step | Input `x` | Register (binary) | Output `y` |\n",
    "|------|-----------|-------------------|------------|\n",
    "| 0    | -         | `000` (0)         | 0          |\n",
    "| 1    | 1         | `001` (1)         | 0          |\n",
    "| 2    | 1         | `010` (2)         | 0          |\n",
    "| ...  | ...       | ...               | ...        |\n",
    "| 6    | 1         | `110` (6)         | 0          |\n",
    "| 7    | 1         | `111` (7)         | **1** Boom!|\n",
    "| 8    | 1         | `000` (0)         | 0          |\n",
    "| 9    | 0         | `000` (0)         | 0          |\n",
    "\n",
    "---\n",
    "\n",
    "### ✅ Task 1\n",
    "\n",
    "Implement the following functions:\n",
    "\n",
    "```python\n",
    "def update_registers_7boom(X, R) -> Tuple[bool, bool, bool]:\n",
    "    ...\n",
    "```\n",
    "\n",
    "```python\n",
    "def compute_outputs_7boom(X, R) -> Tuple[bool]:\n",
    "    ...\n",
    "```\n",
    "\n",
    "```python\n",
    "def seven_boom_circuit() -> Circuit:\n",
    "    ...\n",
    "```\n",
    "\n",
    "Where:\n",
    "- You define `update_registers(X, R)` to implement the counting and reset logic\n",
    "- You define `compute_outputs(X, R)` to output `y = 1` only when counter == 7\n",
    "\n",
    "Then, test your circuit using `.to_transition_system()` or `.plot()`.\n",
    "\n",
    "---"
   ]
  },
  {
   "cell_type": "code",
   "execution_count": 112,
   "metadata": {
    "ExecuteTime": {
     "end_time": "2025-03-31T15:34:29.278211Z",
     "start_time": "2025-03-31T15:34:29.274348Z"
    },
    "tags": [
     "otter_answer_cell"
    ]
   },
   "outputs": [],
   "source": [
    "def update_registers_7boom(X, R):\n",
    "    \"\"\"\n",
    "    Update the 3-bit register based on the input x (either 0 or 1).\n",
    "\n",
    "    Parameters:\n",
    "        X (Tuple[bool]): Input tuple of length 1 (True = increment, False = no-op)\n",
    "        R (Tuple[bool, bool, bool]): 3-bit register representing an integer from 0 to 7\n",
    "\n",
    "    Returns:\n",
    "        Tuple[bool, bool, bool]: The updated 3-bit register (reset to 0 if value becomes 8)\n",
    "    \"\"\"\n",
    "    if not X[0]:\n",
    "        return R\n",
    "    \n",
    "    all_options = [option[::-1] for option in list(itertools.product([False, True], repeat=3))]\n",
    "    \n",
    "    index = all_options.index(R)\n",
    "    return all_options[(index + 1) % len(all_options)]\n",
    "                \n",
    "    \n",
    "        \n",
    "\n",
    "def compute_outputs_7boom(X, R):\n",
    "    \"\"\"\n",
    "    Compute the output of the 7-Boom circuit.\n",
    "\n",
    "    Parameters:\n",
    "        X (Tuple[bool]): Input tuple of length 1\n",
    "        R (Tuple[bool, bool, bool]): 3-bit register\n",
    "\n",
    "    Returns:\n",
    "        Tuple[bool]: Output y = 1 iff the register value is 7\n",
    "    \"\"\"\n",
    "    return (all(R), )\n",
    "\n",
    "\n",
    "def seven_boom_circuit():\n",
    "    \"\"\"\n",
    "    Construct and return a Circuit object representing the 7-Boom counter.\n",
    "\n",
    "    - Inputs: 1-bit (x)\n",
    "    - Registers: 3-bit counter (to count 0 through 7)\n",
    "    - Output: 1-bit y = 1 only when counter reaches 8 (then resets)\n",
    "\n",
    "    Returns:\n",
    "        Circuit: A fully configured Circuit object for the 7-Boom logic\n",
    "    \"\"\"\n",
    "    # Create the circuit with 1 input, 3 registers, and 1 output\n",
    "    circuit = Circuit(X=1, R=3, Y=1, update_registers=update_registers_7boom, compute_outputs=compute_outputs_7boom)\n",
    "    return circuit"
   ]
  },
  {
   "cell_type": "code",
   "execution_count": 113,
   "metadata": {},
   "outputs": [
    {
     "name": "stdout",
     "output_type": "stream",
     "text": [
      "(False, False, False)\n",
      "(True, False, False)\n",
      "(False, True, False)\n",
      "(True, True, False)\n",
      "(False, False, True)\n",
      "(True, False, True)\n",
      "(False, True, True)\n"
     ]
    }
   ],
   "source": [
    "R = (False, False, False)\n",
    "X = (True, )\n",
    "R = update_registers_7boom((False,), R)\n",
    "for i in range(7):\n",
    "    print(R)\n",
    "    R = update_registers_7boom(X, R)\n",
    "\n",
    "    "
   ]
  },
  {
   "cell_type": "markdown",
   "metadata": {
    "deletable": false,
    "editable": false
   },
   "source": [
    "## 🔍 Task 2\n",
    "\n",
    "### Objective\n",
    "\n",
    "Now that you've implemented the 7-Boom circuit, it's time to analyze how many **distinct states** are reachable in its transition system.\n",
    "\n",
    "---\n",
    "\n",
    "### 🔧 Task\n",
    "\n",
    "Implement the function:\n",
    "\n",
    "```python\n",
    "def count_reachable_states() -> int:\n",
    "    ...\n",
    "```\n",
    "\n",
    "---\n"
   ]
  },
  {
   "cell_type": "code",
   "execution_count": 114,
   "metadata": {
    "ExecuteTime": {
     "end_time": "2025-03-31T15:34:29.293Z",
     "start_time": "2025-03-31T15:34:29.291146Z"
    },
    "tags": [
     "otter_answer_cell"
    ]
   },
   "outputs": [],
   "source": [
    "def count_reachable_states() -> int:\n",
    "    \"\"\"\n",
    "    Constructs the transition system of the 7-Boom circuit and returns\n",
    "    the number of reachable states from the initial states.\n",
    "    \"\"\"\n",
    "    circuit = seven_boom_circuit()\n",
    "    ts = circuit.to_transition_system()\n",
    "    reachable_states = ts.reach()\n",
    "    return len(reachable_states)  # Return the number of reachable states\n",
    "    "
   ]
  },
  {
   "cell_type": "code",
   "execution_count": 115,
   "metadata": {
    "deletable": false,
    "editable": false
   },
   "outputs": [
    {
     "data": {
      "text/html": [
       "<p><strong><pre style='display: inline;'>q2</pre></strong> passed! 🌟</p>"
      ],
      "text/plain": [
       "q2 results: All test cases passed!"
      ]
     },
     "execution_count": 115,
     "metadata": {},
     "output_type": "execute_result"
    }
   ],
   "source": [
    "grader.check(\"q2\")"
   ]
  },
  {
   "cell_type": "code",
   "execution_count": null,
   "metadata": {
    "ExecuteTime": {
     "end_time": "2025-03-31T15:34:30.453520Z",
     "start_time": "2025-03-31T15:34:30.451974Z"
    }
   },
   "outputs": [],
   "source": []
  },
  {
   "cell_type": "markdown",
   "metadata": {
    "deletable": false,
    "editable": false
   },
   "source": [
    "## Submission\n",
    "\n",
    "Make sure you have run all cells in your notebook in order before running the cell below, so that all images/graphs appear in the output. The cell below will generate a zip file for you to submit. **Please save before exporting!**"
   ]
  },
  {
   "cell_type": "code",
   "execution_count": 116,
   "metadata": {
    "deletable": false,
    "editable": false
   },
   "outputs": [
    {
     "data": {
      "text/html": [
       "\n",
       "                    <p>\n",
       "                        Your submission has been exported. Click\n",
       "                        <a href=\"HWB1_2025_04_09T15_57_50_725391.zip\" download=\"HWB1_2025_04_09T15_57_50_725391.zip\" target=\"_blank\">here</a> to download\n",
       "                        the zip file.\n",
       "                    </p>\n",
       "                "
      ],
      "text/plain": [
       "<IPython.core.display.HTML object>"
      ]
     },
     "metadata": {},
     "output_type": "display_data"
    }
   ],
   "source": [
    "# Save your notebook first, then run this cell to export your submission.\n",
    "grader.export(pdf=False)"
   ]
  },
  {
   "cell_type": "markdown",
   "metadata": {},
   "source": [
    " "
   ]
  }
 ],
 "metadata": {
  "kernelspec": {
   "display_name": "BGU",
   "language": "python",
   "name": "python3"
  },
  "language_info": {
   "codemirror_mode": {
    "name": "ipython",
    "version": 3
   },
   "file_extension": ".py",
   "mimetype": "text/x-python",
   "name": "python",
   "nbconvert_exporter": "python",
   "pygments_lexer": "ipython3",
   "version": "3.12.2"
  },
  "otter": {
   "OK_FORMAT": true,
   "assignment_name": "hwb01,",
   "tests": {
    "q1": {
     "name": "q1",
     "points": null,
     "suites": [
      {
       "cases": [
        {
         "code": ">>> def test_circuit_initialization():\n...     \"\"\"Test that the Circuit class initializes correctly.\"\"\"\n...     def update_registers(X, R):\n...         return R\n...     def compute_outputs(X, R):\n...         return X\n...     circuit = Circuit(X=2, R=2, Y=2, update_registers=update_registers, compute_outputs=compute_outputs)\n...     assert circuit.X == 2\n...     assert circuit.R == 2\n...     assert circuit.Y == 2\n>>> def test_register_update():\n...     \"\"\"Test that the register update function correctly computes new register states.\"\"\"\n...     def update_registers(X, R):\n...         return (X[0], not R[1])\n...     circuit = Circuit(X=2, R=2, Y=2, update_registers=update_registers, compute_outputs=lambda X, R: X)\n...     new_registers = circuit.update_registers((True, False), (False, True))\n...     assert new_registers == (True, False), 'Register update failed.'\n>>> def test_compute_outputs():\n...     \"\"\"Test that the compute_outputs function correctly computes outputs.\"\"\"\n...     def compute_outputs(X, R):\n...         return (X[0] and R[1], X[1] or R[0])\n...     circuit = Circuit(X=2, R=2, Y=2, update_registers=lambda X, R: R, compute_outputs=compute_outputs)\n...     outputs = circuit.compute_outputs((True, False), (False, True))\n...     assert outputs == (True, False), 'Output computation failed.'\n>>> def test_transition_system_creation():\n...     \"\"\"Test that the transition system is created correctly from a circuit.\"\"\"\n...     def update_registers(X, R):\n...         return (X[0], R[1])\n...     def compute_outputs(X, R):\n...         return (R[0], R[1])\n...     circuit = Circuit(X=2, R=2, Y=2, update_registers=update_registers, compute_outputs=compute_outputs)\n...     ts = circuit.to_transition_system()\n...     expected_state_count = 2 ** (circuit.X + circuit.R)\n...     assert len(ts.S) == expected_state_count, f'Expected {expected_state_count} states, but got {len(ts.S)}'\n...     sample_state = ((True, False), (False, True))\n...     sample_action = (True, False)\n...     expected_new_state = (sample_action, update_registers(sample_action, sample_state[1]))\n...     assert (sample_state, sample_action, expected_new_state) in ts.Transitions, 'Transition rule failed.'\n>>> def test_labeling_function():\n...     \"\"\"Test that the labeling function assigns the correct atomic propositions.\"\"\"\n...     def update_registers(X, R):\n...         return (X[0], not R[1])\n...     def compute_outputs(X, R):\n...         return (X[1] and R[0], X[0] or R[1])\n...     circuit = Circuit(X=2, R=2, Y=2, update_registers=update_registers, compute_outputs=compute_outputs)\n...     ts = circuit.to_transition_system()\n...     sample_state = ((True, False), (False, True))\n...     expected_labels = {'x1', 'r2', 'y2'}\n...     assert ts.L(sample_state) == expected_labels, f'Incorrect labels. Expected {expected_labels}, got {ts.L(sample_state)}'\n>>> def test_reachability():\n...     \"\"\"Test that all states in the transition system are reachable from the initial state.\"\"\"\n...     def update_registers(X, R):\n...         return (X[0], X[1])\n...     def compute_outputs(X, R):\n...         return (R[0], R[1])\n...     circuit = Circuit(X=2, R=2, Y=2, update_registers=update_registers, compute_outputs=compute_outputs)\n...     ts = circuit.to_transition_system()\n...     reachable_states = ts.reach()\n...     assert reachable_states == ts.S, 'Not all states are reachable from the initial states.'\n>>> test_circuit_initialization()\n>>> test_register_update()\n>>> test_compute_outputs()\n>>> test_transition_system_creation()\n>>> test_labeling_function()\n>>> test_reachability()\n",
         "hidden": false,
         "locked": false
        },
        {
         "code": ">>> def update_registers(X, R):\n...     return (X[0],)\n>>> def compute_outputs(X, R):\n...     return R\n>>> def test_transition_system_structure():\n...     circuit = Circuit(X=1, R=1, Y=1, update_registers=update_registers, compute_outputs=compute_outputs)\n...     ts = circuit.to_transition_system()\n...     assert len(ts.S) == 4, 'Incorrect number of states'\n...     assert len(ts.Act) == 2, 'Incorrect number of actions'\n...     expected_initials = {(x, (False,)) for x in [(False,), (True,)]}\n...     assert ts.I == expected_initials, 'Initial states do not match'\n>>> def test_transition_relation():\n...     circuit = Circuit(X=1, R=1, Y=1, update_registers=update_registers, compute_outputs=compute_outputs)\n...     ts = circuit.to_transition_system()\n...     start_state = ((True,), (False,))\n...     action = (False,)\n...     target_state = ((False,), (True,))\n...     assert (start_state, action, target_state) in ts.Transitions, 'Expected transition is missing'\n>>> def test_labeling_function():\n...     circuit = Circuit(X=1, R=1, Y=1, update_registers=update_registers, compute_outputs=compute_outputs)\n...     ts = circuit.to_transition_system()\n...     for (x, r) in ts.S:\n...         labels = ts.L((x, r))\n...         for (i, b) in enumerate(x):\n...             if b:\n...                 assert f'x{i + 1}' in labels\n...         for (i, b) in enumerate(r):\n...             if b:\n...                 assert f'r{i + 1}' in labels\n...         y = circuit.compute_outputs(x, r)\n...         for (i, b) in enumerate(y):\n...             if b:\n...                 assert f'y{i + 1}' in labels\n>>> test_transition_system_structure()\n>>> test_transition_relation()\n>>> test_labeling_function()\n",
         "hidden": false,
         "locked": false
        }
       ],
       "scored": true,
       "setup": "",
       "teardown": "",
       "type": "doctest"
      }
     ]
    },
    "q2": {
     "name": "q2",
     "points": null,
     "suites": [
      {
       "cases": [
        {
         "code": ">>> def bits_to_int(bits):\n...     return sum(((1 << i) * int(b) for (i, b) in enumerate(bits)))\n>>> def test_update_no_input():\n...     assert update_registers_7boom((False,), (False, False, False)) == (False, False, False)\n>>> def test_update_increment():\n...     assert update_registers_7boom((True,), (True, True, True)) == (False, False, False)\n>>> def test_update_regular():\n...     assert update_registers_7boom((True,), (False, True, False)) == (True, True, False)\n>>> def test_output_zero():\n...     assert compute_outputs_7boom((True,), (False, False, True)) == (False,)\n>>> def test_output_boom():\n...     assert compute_outputs_7boom((True,), (True, True, True)) == (True,)\n>>> def test_seven_boom_transition_system():\n...     circuit = seven_boom_circuit()\n...     ts = circuit.to_transition_system()\n...     for (x, r) in ts.I:\n...         assert r == (False, False, False), 'Register should be initialized to 0'\n>>> def test_transition_reaches_boom():\n...     circuit = seven_boom_circuit()\n...     ts = circuit.to_transition_system()\n...     reachable = ts.reach()\n...     has_boom = any(('y1' in ts.L(s) for s in reachable))\n...     assert has_boom, 'Should reach a state with y=1 (Boom!)'\n>>> test_update_no_input()\n>>> test_update_increment()\n>>> test_update_regular()\n>>> test_output_zero()\n>>> test_output_boom()\n>>> test_seven_boom_transition_system()\n>>> test_transition_reaches_boom()\n",
         "hidden": false,
         "locked": false
        },
        {
         "code": ">>> def test_count_is_int():\n...     count = count_reachable_states()\n...     assert isinstance(count, int), 'Returned value must be an integer'\n>>> def test_count_nonzero():\n...     count = count_reachable_states()\n...     assert count > 0, 'There should be at least one reachable state'\n>>> def test_count_exact():\n...     circuit = seven_boom_circuit()\n...     ts = circuit.to_transition_system()\n...     reachable = ts.reach()\n...     assert count_reachable_states() == len(reachable), 'Mismatch in reachable state count'\n>>> test_count_is_int()\n>>> test_count_nonzero()\n>>> test_count_exact()\n",
         "hidden": false,
         "locked": false
        }
       ],
       "scored": true,
       "setup": "",
       "teardown": "",
       "type": "doctest"
      }
     ]
    }
   }
  }
 },
 "nbformat": 4,
 "nbformat_minor": 0
}
