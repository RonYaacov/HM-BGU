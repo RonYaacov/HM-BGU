{
 "cells": [
  {
   "cell_type": "markdown",
   "metadata": {
    "id": "Y7m1EiJdz3Wk"
   },
   "source": [
    "# HW 1: Implementing Transition Systems in Python\n",
    "\n",
    "In this exercise, we will implement the formal concept of a transition system as we defined in class using Python classes. We'll translate the mathematical definition $(S,\\ Act,\\ \\rightarrow,\\ I,\\ AP,\\ L)$ into code.\n"
   ]
  },
  {
   "cell_type": "code",
   "execution_count": 20,
   "metadata": {
    "ExecuteTime": {
     "end_time": "2025-03-17T13:21:38.466443Z",
     "start_time": "2025-03-17T13:21:37.986402Z"
    }
   },
   "outputs": [],
   "source": [
    "import sys\n",
    "import otter\n",
    "\n",
    "grader = otter.Notebook(\"HW1.ipynb\")\n"
   ]
  },
  {
   "cell_type": "markdown",
   "metadata": {
    "deletable": false,
    "editable": false,
    "id": "TI1jvGE6vzP4"
   },
   "source": [
    "## Challenge 1: Implementing the `TransitionSystem` class"
   ]
  },
  {
   "cell_type": "markdown",
   "metadata": {
    "deletable": false,
    "editable": false
   },
   "source": [
    "Recall the formal definition of a transition system:\n",
    "\n",
    "A **transition system** TS is a tuple $(S,\\ Act,\\ \\rightarrow,\\ I,\\ AP,\\ L)$ where:\n",
    "\n",
    "- $S$ is a set of states\n",
    "- $Act$ is a set of actions\n",
    "- ${\\rightarrow} \\subseteq S \\times Act \\times S$ is a transition relation\n",
    "- $I \\subseteq S$ is a set of initial states\n",
    "- $AP$ is a set of atomic propositions\n",
    "- $L: S \\rightarrow 2^{AP}$ is a labeling function"
   ]
  },
  {
   "cell_type": "markdown",
   "metadata": {
    "deletable": false,
    "editable": false
   },
   "source": [
    "### Notation"
   ]
  },
  {
   "cell_type": "markdown",
   "metadata": {
    "deletable": false,
    "editable": false
   },
   "source": [
    "- For $(s,\\alpha,s') \\in {\\rightarrow}$, we write $s \\xrightarrow{\\alpha} s'$\n",
    "- The transition system is called **finite** if $S$, $Act$, and $AP$ are finite sets\n",
    "- For each state $s \\in S$, $L(s)$ represents the set of atomic propositions that hold in state $s$"
   ]
  },
  {
   "cell_type": "markdown",
   "metadata": {
    "deletable": false,
    "editable": false
   },
   "source": [
    "### Example"
   ]
  },
  {
   "cell_type": "markdown",
   "metadata": {
    "deletable": false,
    "editable": false
   },
   "source": [
    "Let TS be a transition system modeling a simple vending machine:\n",
    "\n",
    "- $S = \\{\\mathsf{ready}, \\mathsf{wait}, \\mathsf{done}\\}$\n",
    "- $Act = \\{\\mathsf{coin}, \\mathsf{coffee}, \\mathsf{tea}\\}$\n",
    "- $I = \\{\\mathsf{ready}\\}$\n",
    "- $AP = \\{\\mathsf{has\\_drink}, \\mathsf{paid}\\}$\n",
    "- Labeling function $L$:\n",
    "  - $L(\\mathsf{ready}) = \\emptyset$\n",
    "  - $L(\\mathsf{wait}) = \\{\\mathsf{paid}\\}$\n",
    "  - $L(\\mathsf{done}) = \\{\\mathsf{has\\_drink}, \\mathsf{paid}\\}$\n",
    "- Transitions:\n",
    "  - $\\mathsf{ready} \\xrightarrow{\\mathsf{coin}} \\mathsf{wait}$\n",
    "  - $\\mathsf{wait} \\xrightarrow{\\mathsf{coffee}} \\mathsf{done}$\n",
    "  - $\\mathsf{wait} \\xrightarrow{\\mathsf{tea}} \\mathsf{done}$"
   ]
  },
  {
   "cell_type": "markdown",
   "metadata": {
    "deletable": false,
    "editable": false
   },
   "source": [
    "## Definition: Direct Predecessors and Successors\n",
    "\n",
    "Let $TS =(S, Act, \\to, I, AP, L)$ be a transition system.\n",
    "\n",
    "For $s \\in S$ and $\\alpha \\in Act$, the set of direct *$\\alpha$-successors* of $s$ is defined as:\n",
    "\n",
    "$Post(s, \\alpha) = \\{ s' \\in S \\mid s \\xrightarrow{\\alpha} s' \\}$,\n",
    "$Post(s) = \\bigcup_{\\alpha \\in Act} Post(s, \\alpha)$\n",
    "\n",
    "The set of *$\\alpha$-predecessors* of $s$ is defined by:\n",
    "\n",
    "$Pre(s, \\alpha) = \\{ s' \\in S \\mid s' \\xrightarrow{\\alpha} s \\}$,\n",
    "$Pre(s) = \\bigcup_{\\alpha \\in Act} Pre(s, \\alpha)$\n",
    "\n",
    "For $C \\subseteq S$ and $\\alpha \\in Act$, the set of direct *$\\alpha$-successors* of $C$ is defined as:\n",
    "\n",
    "$Post(C, \\alpha) = \\bigcup_{s \\in C} Post(s, \\alpha)$,\n",
    "$Post(C) = \\bigcup_{s \\in C} Post(s)$\n",
    "\n",
    "For $C \\subseteq S$ and $\\alpha \\in Act$, the set of direct *$\\alpha$-predecessors* of $C$ is defined as:\n",
    "\n",
    "$Pre(C, \\alpha) = \\bigcup_{s \\in C} Pre(s, \\alpha)$,\n",
    "$Pre(C) = \\bigcup_{s \\in C} Pre(s)$\n",
    "\n",
    "## **Definition: Reachable States**\n",
    "\n",
    "Let $ TS = (S, Act, \\to, I, AP, L) $ be a transition system.\n",
    "\n",
    "A state $ s \\in S $ is called **reachable** if there exists a finite sequence of transitions leading from an initial state to $ s $.\n",
    "\n",
    "The set of **reachable states** is defined as:\n",
    "\n",
    "$Reach(TS) = \\bigcup_{n \\geq 0} Post^n(I)$\n",
    "\n",
    "where:\n",
    "- $ Post^0(I) = I $, meaning the initial states are trivially reachable.\n",
    "- $ Post^{n+1}(I) = Post(Post^n(I)) $, meaning a state is reachable if there exists a sequence of transitions from an initial state.\n",
    "\n",
    "### **Alternative Characterization**\n",
    "The set of reachable states can be computed iteratively:\n",
    "1. Start with the set of **initial states** $ I $.\n",
    "2. Expand the set by adding **all direct successors** until no new states are added.\n",
    "3. Formally, the **iterative expansion** is defined as:\n",
    "\n",
    "   $S_0 = I$\n",
    "\n",
    "   $S_{n+1} = S_n \\cup Post(S_n)$\n",
    "\n",
    "   where $ S_n $ is the set of states reachable within $ n $ transitions.\n",
    "\n",
    "### **Properties**\n",
    "- **Every initial state is reachable**: $ I \\subseteq Reach(TS) $.\n",
    "- **Every transition only connects reachable states**: If $ s \\xrightarrow{\\alpha} s' $, then $ s' $ is reachable whenever $ s $ is.\n",
    "- **If a state is not in $ Reach(TS) $, it can never be visited** from any initial state.\n",
    "\n",
    "### **Intuition**\n",
    "The **reachable states** represent **all the states that can actually be encountered** when executing the transition system, starting from any initial state.\n",
    "\n",
    "\n",
    "## **Definition: Action-Deterministic and Label-Deterministic Transition Systems**\n",
    "\n",
    "Let $TS = (S, Act, \\to, I, AP, L)$ be a transition system.\n",
    "\n",
    "### **Action-Deterministic Transition System**\n",
    "A transition system is called **action-deterministic** if:\n",
    "1. It has at most **one initial state**, i.e., $|I| \\leq 1$.\n",
    "2. For every state $s \\in S$ and every action $\\alpha \\in Act$, there is at most **one successor state** $ s' $ such that:\n",
    "\n",
    "   $|Post(s, \\alpha)| \\leq 1$\n",
    "\n",
    "   This means that whenever an action $ \\alpha $ is taken from state $ s $, the system **must transition to at most one unique state**.\n",
    "\n",
    "### **Label-Deterministic Transition System**\n",
    "A transition system is called **label-deterministic** if:\n",
    "1. It has at most **one initial state**, i.e., $ |I| \\leq 1 $.\n",
    "2. For every state $ s \\in S $, the set of its direct successors must have **distinct atomic proposition labels**:\n",
    "\n",
    "    $|Post(s)| = |\\{ L(s') \\mid s' \\in Post(s) \\}|$\n",
    "\n",
    "   This means that no two successors of the same state $ s $ should have the **same labeling function output**.\n",
    "\n",
    "In other words:\n",
    "- **Action-determinism** ensures that the system **always knows** where it will transition based on an action.\n",
    "- **Label-determinism** ensures that the labels of successor states are always **unique**, preventing ambiguity in atomic propositions.\n"
   ]
  },
  {
   "cell_type": "markdown",
   "metadata": {
    "deletable": false,
    "editable": false
   },
   "source": [
    "Your task is to implement the `TransitionSystem` class in Python. The class should have the following methods:"
   ]
  },
  {
   "cell_type": "code",
   "execution_count": null,
   "metadata": {},
   "outputs": [],
   "source": []
  },
  {
   "cell_type": "code",
   "execution_count": 53,
   "metadata": {
    "ExecuteTime": {
     "end_time": "2025-03-17T13:21:41.879740Z",
     "start_time": "2025-03-17T13:21:41.864720Z"
    },
    "id": "Yr4ZoKdZtQzk",
    "tags": [
     "otter_answer_cell"
    ]
   },
   "outputs": [],
   "source": [
    "import networkx as nx\n",
    "import matplotlib.pyplot as plt\n",
    "from typing import Set, Dict, Tuple, Union, Optional\n",
    "from queue import Queue\n",
    "\n",
    "State = Union[str, Tuple]  # A state can be a string or a tuple (location, environment)\n",
    "Action = str  # Actions are represented as strings\n",
    "Transition = Tuple[State, Action, State]  # (source_state, action, target_state)\n",
    "LabelingMap = Dict[State, Set[str]]  # Maps states to atomic propositions\n",
    "\n",
    "\n",
    "class TransitionSystem:\n",
    "    \"\"\"\n",
    "    A Transition System (TS) representation.\n",
    "\n",
    "    Attributes:\n",
    "        S (Set[State]): The set of all states (strings or tuples).\n",
    "        Act (Set[Action]): The set of all possible actions.\n",
    "        Transitions (Set[Transition]): The set of transitions, each represented as (state_origin, action, state_target).\n",
    "        I (Set[State]): The set of initial states.\n",
    "        AP (Set[str]): The set of atomic propositions.\n",
    "        _L (LabelingMap): A dictionary mapping states to their respective atomic propositions.\n",
    "    \"\"\"\n",
    "\n",
    "    def __init__(\n",
    "        self,\n",
    "        states: Optional[Set[State]] = None,\n",
    "        actions: Optional[Set[Action]] = None,\n",
    "        transitions: Optional[Set[Transition]] = None,\n",
    "        initial_states: Optional[Set[State]] = None,\n",
    "        atomic_props: Optional[Set[str]] = None,\n",
    "        labeling_map: Optional[LabelingMap] = None,\n",
    "    ) -> None:\n",
    "        \"\"\"\n",
    "        Initializes the Transition System.\n",
    "\n",
    "        :param states: A set of states (each a string or a tuple). Defaults to an empty set.\n",
    "        :param actions: A set of actions. Defaults to an empty set.\n",
    "        :param transitions: A set of transitions, each as (state_origin, action, state_target). Defaults to an empty set.\n",
    "        :param initial_states: A set of initial states. Defaults to an empty set.\n",
    "        :param atomic_props: A set of atomic propositions. Defaults to an empty set.\n",
    "        :param labeling_map: A dictionary mapping states to sets of atomic propositions. Defaults to an empty dictionary.\n",
    "        \"\"\"\n",
    "        self.S: Set[State] = set(states) if states is not None else set()\n",
    "        self.Act: Set[Action] = set(actions) if actions is not None else set()\n",
    "        self.Transitions: Set[Transition] = set(transitions) if transitions is not None else set()\n",
    "        self.I: Set[State] = set(initial_states) if initial_states is not None else set()\n",
    "        self.AP: Set[str] = set(atomic_props) if atomic_props is not None else set()\n",
    "        self._L: LabelingMap = dict(labeling_map) if labeling_map is not None else {}\n",
    "\n",
    "    def add_state(self, *states: State) -> \"TransitionSystem\":\n",
    "        \"\"\"\n",
    "        Adds one or more states to the transition system.\n",
    "\n",
    "        :param states: One or more states (strings or tuples) to be added.\n",
    "        :return: The TransitionSystem instance (for method chaining).\n",
    "        \"\"\"\n",
    "        for state in states:\n",
    "            self.S.add(state)\n",
    "        return self\n",
    "\n",
    "    def add_action(self, *actions: Action) -> \"TransitionSystem\":\n",
    "        \"\"\"\n",
    "        Adds one or more actions to the transition system.\n",
    "\n",
    "        :param actions: One or more actions (strings) to be added.\n",
    "        :return: The TransitionSystem instance (for method chaining).\n",
    "        \"\"\"\n",
    "        self.Act.update(actions)\n",
    "        return self\n",
    "\n",
    "    def add_transition(self, *transitions: Transition) -> \"TransitionSystem\":\n",
    "        \"\"\"\n",
    "        Adds one or more transitions to the transition system.\n",
    "        Ensures that all involved states and actions exist before adding the transitions.\n",
    "\n",
    "        Each transition must be provided as a tuple of the form `(state_from, action, state_to)`, where:\n",
    "        - `state_from` is the source state.\n",
    "        - `action` is the action performed.\n",
    "        - `state_to` is the resulting state.\n",
    "\n",
    "        :param transitions: One or more transitions, each as a tuple `(state_from, action, state_to)`.\n",
    "        :raises ValueError:\n",
    "            - If a transition is not a tuple of length 3.\n",
    "            - If `state_from` or `state_to` does not exist in `self.S`.\n",
    "            - If `action` is not in `self.Act`.\n",
    "        :return: The `TransitionSystem` instance (for method chaining).\n",
    "        \"\"\"\n",
    "        for transition in transitions:\n",
    "            if not isinstance(transition, tuple) or len(transition) != 3:\n",
    "                raise ValueError(f\"Invalid transition: {transition}\")\n",
    "            if transition[0] not in self.S:\n",
    "                raise ValueError(f\"State {transition[0]} is not in the transition system.\")\n",
    "            if transition[2] not in self.S:\n",
    "                raise ValueError(f\"State {transition[2]} is not in the transition system.\")\n",
    "            if transition[1] not in self.Act:\n",
    "                raise ValueError(f\"Action {transition[1]} is not in the transition system.\")\n",
    "        self.Transitions.update(transitions)\n",
    "        return self\n",
    "            \n",
    "    def add_initial_state(self, *states: State) -> \"TransitionSystem\":\n",
    "        \"\"\"\n",
    "        Adds one or more states to the set of initial states.\n",
    "\n",
    "        :param states: One or more states to be marked as initial.\n",
    "        :raises ValueError: If any state does not exist in the system.\n",
    "        :return: The TransitionSystem instance (for method chaining).\n",
    "        \"\"\"\n",
    "        if any(state not in self.S for state in states):\n",
    "            raise ValueError(f\"Initial state {states[0]} must be in the transition system.\")\n",
    "        self.I.update(states)\n",
    "        return self\n",
    "\n",
    "    def add_atomic_proposition(self, *props: str) -> \"TransitionSystem\":\n",
    "        \"\"\"\n",
    "        Adds one or more atomic propositions to the transition system.\n",
    "\n",
    "        :param props: One or more atomic propositions (strings) to be added.\n",
    "        :return: The TransitionSystem instance (for method chaining).\n",
    "        \"\"\"\n",
    "        self.AP.update(props)\n",
    "        return self\n",
    "\n",
    "    def add_label(self, state: State, *labels: str) -> \"TransitionSystem\":\n",
    "        \"\"\"\n",
    "        Adds one or more atomic propositions to a given state.\n",
    "\n",
    "        :param state: The state to label.\n",
    "        :param labels: One or more atomic propositions to be assigned to the state.\n",
    "        :raises ValueError: If the state is not in the system or if any label is not a valid atomic proposition.\n",
    "        :return: The TransitionSystem instance (for method chaining).\n",
    "        \"\"\"\n",
    "        if state not in self.S:\n",
    "            raise ValueError(f\"Cannot set labels for {state}. State is not in the transition system.\")\n",
    "        if any(label not in self.AP for label in labels):\n",
    "            invalid_labels = {label for label in labels if label not in self.AP}\n",
    "            raise ValueError(f\"Cannot assign labels {invalid_labels}. They are not in the set of atomic propositions (AP).\")\n",
    "        if state not in self._L:\n",
    "            self._L[state] = set()\n",
    "        self._L[state].update(labels)\n",
    "        return self\n",
    "\n",
    "    def L(self, state: State) -> Set[str]:\n",
    "        \"\"\"\n",
    "        Retrieves the set of atomic propositions that hold in a given state.\n",
    "\n",
    "        :param state: The state whose atomic propositions are being retrieved.\n",
    "        :raises ValueError: If the state is not in the transition system.\n",
    "        :return: A set of atomic propositions associated with the given state.\n",
    "        \"\"\"\n",
    "        if state not in self.S:\n",
    "            raise ValueError(f\"State {state} is not in the transition system.\")\n",
    "        return self._L.get(state, set())\n",
    "\n",
    "    def pre(self, S: Union[State, Set[State]], action: Optional[Action] = None) -> Set[State]:\n",
    "        \"\"\"\n",
    "        Computes the set of predecessor states from which a given state or set of states can be reached.\n",
    "\n",
    "        :param S: A single state (string/tuple) or a collection of states.\n",
    "        :param action: (Optional) If provided, filters only the transitions that use this action.\n",
    "        :return: A set of predecessor states.\n",
    "        \"\"\"\n",
    "        actions = {action} if action is not None else self.Act\n",
    "        return {state_from for state_from, a, state_to in self.Transitions if state_to in S and a in actions}\n",
    "\n",
    "    def post(self, S: Union[State, Set[State]], action: Optional[Action] = None) -> Set[State]:\n",
    "        \"\"\"\n",
    "        Computes the set of successor states reachable from a given state or a collection of states.\n",
    "\n",
    "        :param S: A single state or a collection of states.\n",
    "        :param action: (Optional) Filters transitions by this action.\n",
    "        :return: A set of successor states.\n",
    "        \"\"\"\n",
    "        actions = {action} if action is not None else self.Act\n",
    "        return {state_to for state_from, a, state_to in self.Transitions if state_from in S and a in actions}\n",
    "\n",
    "    def reach(self) -> Set[State]:\n",
    "        \"\"\"\n",
    "        Computes the set of all reachable states from the initial states.\n",
    "\n",
    "        :return: A set of reachable states.\n",
    "        \"\"\"\n",
    "        # BFS to find reachable states\n",
    "        visited = set()\n",
    "        reachable = set(self.I)\n",
    "        q = Queue()\n",
    "        for state in self.I:\n",
    "            q.put(state)\n",
    "        while not q.empty():\n",
    "            state = q.get()\n",
    "            if state in visited:\n",
    "                continue\n",
    "            visited.add(state)\n",
    "            successors = self.post(state)\n",
    "            reachable.update(successors)\n",
    "            for succ in successors:\n",
    "                q.put(succ)\n",
    "        return reachable\n",
    "\n",
    "    def is_action_deterministic(self) -> bool:\n",
    "        \"\"\"\n",
    "        Checks whether the transition system is action-deterministic.\n",
    "\n",
    "        A transition system is action-deterministic if:\n",
    "        - It has at most one initial state.\n",
    "        - For each state and action, there is at most one successor state.\n",
    "\n",
    "        :return: True if the transition system is action-deterministic, False otherwise.\n",
    "        \"\"\"\n",
    "        if len(self.I) > 1:\n",
    "            return False\n",
    "        source_trans = set()\n",
    "        for transition in self.Transitions:\n",
    "            source, action, target = transition\n",
    "            if (source, action) in source_trans:\n",
    "                return False\n",
    "            source_trans.add((source, action))\n",
    "        return True\n",
    "        \n",
    "\n",
    "    def is_label_deterministic(self) -> bool:\n",
    "        \"\"\"\n",
    "        Checks whether the transition system is label-deterministic.\n",
    "\n",
    "        A transition system is label-deterministic if:\n",
    "        - It has at most one initial state.\n",
    "        - For each state, the number of reachable successor states is equal to the number of unique label sets\n",
    "          of these successor states.\n",
    "\n",
    "        :return: True if the transition system is label-deterministic, False otherwise.\n",
    "        \"\"\"\n",
    "        if len(self.I) > 1:\n",
    "            return False\n",
    "        for state in self.S:\n",
    "            successors = self.post(state)\n",
    "            unique_labels = {frozenset(self.L(succ)) for succ in successors}\n",
    "            if len(successors) != len(unique_labels):\n",
    "                return False\n",
    "        return True\n",
    "                \n",
    "\n",
    "    def __repr__(self) -> str:\n",
    "        \"\"\"\n",
    "        Returns a string representation of the Transition System.\n",
    "\n",
    "        :return: A formatted string representation of the TS.\n",
    "        \"\"\"\n",
    "        return (\n",
    "            f\"TransitionSystem(\\n\"\n",
    "            f\"  States: {self.S}\\n\"\n",
    "            f\"  Actions: {self.Act}\\n\"\n",
    "            f\"  Transitions: {len(self.Transitions)}\\n\"\n",
    "            f\"  Initial States: {self.I}\\n\"\n",
    "            f\"  Atomic Propositions: {self.AP}\\n\"\n",
    "            f\"  Labels: {self._L}\\n\"\n",
    "            f\")\"\n",
    "        )\n",
    "\n",
    "\n",
    "    def plot(self, title: str = \"Transition System\", figsize: Tuple[int, int] = (10, 6)) -> None:\n",
    "        \"\"\"\n",
    "        Plots the Transition System as a directed graph.\n",
    "\n",
    "        :param title: Title of the plot.\n",
    "        :param figsize: Figure size for the plot.\n",
    "        \"\"\"\n",
    "        G = nx.DiGraph()\n",
    "\n",
    "        # Add nodes (states)\n",
    "        for state in self.S:\n",
    "            label = f\"{state}\\n{' '.join(self.L(state))}\" if self.L(state) else str(state)\n",
    "            print(label)\n",
    "            G.add_node(state, label=label, color=\"blue\" if state in self.I else \"yellow\")\n",
    "\n",
    "        # Add edges (transitions)\n",
    "        for state_from, action, state_to in self.Transitions:\n",
    "            G.add_edge(state_from, state_to, label=action)\n",
    "\n",
    "        plt.figure(figsize=figsize)\n",
    "        pos = nx.spring_layout(G)  # Positioning algorithm for layout\n",
    "\n",
    "        # Draw nodes\n",
    "        node_colors = [G.nodes[n][\"color\"] for n in G.nodes]\n",
    "        nx.draw(G, pos, with_labels=True, labels=nx.get_node_attributes(G, \"label\"), node_color=node_colors, edgecolors=\"black\", node_size=2000, font_size=10)\n",
    "\n",
    "        # Draw edge labels (actions)\n",
    "        edge_labels = {(u, v): d[\"label\"] for u, v, d in G.edges(data=True)}\n",
    "        nx.draw_networkx_edge_labels(G, pos, edge_labels=edge_labels, font_size=9)\n",
    "\n",
    "        plt.title(title)\n",
    "        plt.show()\n"
   ]
  },
  {
   "cell_type": "markdown",
   "metadata": {
    "deletable": false,
    "editable": false
   },
   "source": [
    "### Pre/Post Example Usage:"
   ]
  },
  {
   "cell_type": "code",
   "execution_count": 54,
   "metadata": {
    "ExecuteTime": {
     "end_time": "2025-03-17T13:21:43.493065Z",
     "start_time": "2025-03-17T13:21:43.489081Z"
    },
    "deletable": false,
    "editable": false
   },
   "outputs": [
    {
     "name": "stdout",
     "output_type": "stream",
     "text": [
      "{'s2'}\n",
      "{'s2'}\n",
      "{'s1'}\n",
      "{'s1'}\n",
      "{'s2'}\n",
      "{'s3', 's2'}\n",
      "{'s1'}\n",
      "{'s1', 's2'}\n"
     ]
    }
   ],
   "source": [
    "states = {'s1', 's2', 's3'}\n",
    "actions = {'a', 'b'}\n",
    "transitions = {('s1', 'a', 's2'), ('s2', 'b', 's3'), ('s3', 'a', 's1')}\n",
    "initial_states = {'s1'}\n",
    "atomic_props = {'p', 'q'}\n",
    "labeling = {'s1': {'p'}, 's2': {'q'}, 's3': {'p', 'q'}}\n",
    "\n",
    "ts = TransitionSystem()\n",
    "\n",
    "for s in states:\n",
    "    ts.add_state(s)\n",
    "\n",
    "for a in actions:\n",
    "    ts.add_action(a)\n",
    "\n",
    "for t in transitions:\n",
    "    ts.add_transition(t)\n",
    "\n",
    "for s in initial_states:\n",
    "    ts.add_initial_state(s)\n",
    "\n",
    "for ap in atomic_props:\n",
    "    ts.add_atomic_proposition(ap)\n",
    "\n",
    "for s, aps in labeling.items():\n",
    "    ts.add_label(s, *aps)\n",
    "\n",
    "print(ts.post('s1', 'a')) # Output: {'s2'}\n",
    "print(ts.post('s1'))  # Output: {'s2'}\n",
    "print(ts.pre('s2', 'a'))  # Output: {'s1'}\n",
    "print(ts.pre('s2'))  # Output: {'s1'}\n",
    "print(ts.post({'s1', 's2'}, 'a'))  # Output: {'s2'}\n",
    "print(ts.post({'s1', 's2'}))  # Output: {'s2', 's3'}\n",
    "print(ts.pre({'s2', 's3'}, 'a'))  # Output: {'s1'}\n",
    "print(ts.pre({'s2', 's3'}))  # Output: {'s1', 's2'}"
   ]
  },
  {
   "cell_type": "code",
   "execution_count": 45,
   "metadata": {
    "deletable": false,
    "editable": false
   },
   "outputs": [
    {
     "data": {
      "text/html": [
       "<p><strong><pre style='display: inline;'>q1</pre></strong> passed! 🌟</p>"
      ],
      "text/plain": [
       "q1 results: All test cases passed!"
      ]
     },
     "execution_count": 45,
     "metadata": {},
     "output_type": "execute_result"
    }
   ],
   "source": [
    "grader.check(\"q1\")"
   ]
  },
  {
   "cell_type": "markdown",
   "metadata": {
    "deletable": false,
    "editable": false
   },
   "source": [
    "Here's a classic riddle that wil will solve using state space exploration of a transition stystem in Python:\n",
    "\n",
    "---\n",
    "\n",
    "**The Farmer, Wolf, Goat, and Cabbage Puzzle**\n",
    "\n",
    "A farmer needs to cross a river with a wolf, a goat, and a cabbage. His boat can only carry himself plus one item. However, if he leaves the wolf alone with the goat, the wolf will eat the goat, and if he leaves the goat alone with the cabbage, the goat will eat the cabbage. The wolf and the cabbage can be left together safely. How can the farmer get all three safely across the river?*\n",
    "\n",
    "---\n",
    "\n",
    "**How It Translates to a State Space Problem:**\n",
    "\n",
    "1. **States:**\n",
    "   Each state can be represented as a tuple showing the positions (left or right bank) of the farmer, wolf, goat, and cabbage. For example, `('L', 'L', 'L', 'L')` might represent that all four are on the left bank.\n",
    "\n",
    "2. **Transitions:**\n",
    "   Moves consist of the farmer taking one item with him (or going alone) to the opposite bank, ensuring that the move doesn't violate the puzzle's constraints (i.e., leaving the wolf with the goat or the goat with the cabbage unsupervised).\n",
    "\n",
    "3. **Goal:**\n",
    "   Reach the state `('R', 'R', 'R', 'R')` where everyone is safely on the right bank.\n",
    "\n",
    "4. **Search Method:**\n",
    "   You can implement a breadth-first search (BFS) or depth-first search (DFS) in Python to explore the state space until you find a valid sequence of moves from the initial state to the goal state."
   ]
  },
  {
   "cell_type": "markdown",
   "metadata": {
    "deletable": false,
    "editable": false,
    "vscode": {
     "languageId": "markdown"
    }
   },
   "source": [
    "#### **Task 1**\n",
    "Implement the function `create_fwgc_transition_system()` that generates a **transition system** representing all possible valid moves in the problem.\n",
    "\n",
    "Your implementation should:\n",
    "1. Define all **possible states** using `\"L\"` (left bank) and `\"R\"` (right bank) for each entity: **Farmer (F), Wolf (W), Goat (G), and Cabbage (C)**.\n",
    "2. Define all **valid actions**, which include:\n",
    "   - `\"alone\"` → The farmer crosses alone.\n",
    "   - `\"with_wolf\"` → The farmer crosses with the wolf.\n",
    "   - `\"with_goat\"` → The farmer crosses with the goat.\n",
    "   - `\"with_cabbage\"` → The farmer crosses with the cabbage.\n",
    "3. Add **atomic propositions** to classify states:\n",
    "   - `\"unsafe\"` → A state where the goat gets eaten.\n",
    "   - `\"solution\"` → A state where all entities reach `\"RRRR\"`.\n",
    "4. Define **transitions**:\n",
    "   - Farmer moves **alone** or **with one other entity**, updating the state accordingly.\n",
    "   - Invalid transitions (that lead to unsafe states) should be excluded.\n",
    "\n",
    "---\n",
    "#### **Expected Output**\n",
    "When `create_fwgc_transition_system()` is called, it should return an instance of `TransitionSystem` where:\n",
    "- All valid states and transitions are created.\n",
    "- The `\"LLLL\"` state is the initial state.\n",
    "- The `\"RRRR\"` state is marked as `\"solution\"`.\n",
    "- `\"unsafe\"` states are properly labeled."
   ]
  },
  {
   "cell_type": "code",
   "execution_count": null,
   "metadata": {
    "ExecuteTime": {
     "end_time": "2025-03-17T13:21:47.289672Z",
     "start_time": "2025-03-17T13:21:47.284513Z"
    },
    "tags": [
     "otter_answer_cell"
    ]
   },
   "outputs": [],
   "source": [
    "\n",
    "    \n",
    "def create_fwgc_transition_system():\n",
    "    ts = TransitionSystem()\n",
    "\n",
    "    for farmer in [\"L\", \"R\"]:\n",
    "        for wolf in [\"L\", \"R\"]:\n",
    "            for goat in [\"L\", \"R\"]:\n",
    "                for cabbage in [\"L\", \"R\"]:\n",
    "                    state = farmer + wolf + goat + cabbage\n",
    "                    ts.add_state(state)\n",
    "    ts.add_action(\"alone\", \"with_wolf\", \"with_goat\", \"with_cabbage\")\n",
    "\n",
    "    ts.add_atomic_proposition(\"unsafe\", \"solution\")\n",
    "\n",
    "    ts.add_label(\"RRRR\", \"solution\")\n",
    "\n",
    "    unsafe_states = [\"RLLL\", \"RLLR\", \"RRLL\", \"LRRR\", \"LLRR\", \"LRRL\"]\n",
    "    for state in unsafe_states:\n",
    "        ts.add_label(state, \"unsafe\") \n",
    "\n",
    "    ts.add_initial_state(\"LLLL\")\n",
    "    \n",
    "    for state in ts.S:\n",
    "        farmer = state[0]\n",
    "        wolf = state[1]\n",
    "        goat = state[2]\n",
    "        cabbage = state[3]\n",
    "        new_farmer = \"L\" if farmer == \"R\" else \"R\"\n",
    "        new_state = new_farmer + wolf + goat + cabbage\n",
    "        if new_state not in unsafe_states:\n",
    "            ts.add_transition((state, \"alone\", new_state))\n",
    "        if farmer == wolf:\n",
    "            new_state = new_farmer + new_farmer + goat + cabbage\n",
    "            if new_state not in unsafe_states:\n",
    "                ts.add_transition((state, \"with_wolf\", new_state))\n",
    "        if farmer == goat:\n",
    "            new_state = new_farmer + wolf + new_farmer + cabbage\n",
    "            if new_state not in unsafe_states:\n",
    "                ts.add_transition((state, \"with_goat\", new_state))\n",
    "        if farmer == cabbage:\n",
    "            new_state = new_farmer + wolf + goat + new_farmer\n",
    "            if new_state not in unsafe_states:\n",
    "                ts.add_transition((state, \"with_cabbage\", new_state))\n",
    "    return ts\n",
    "\n"
   ]
  },
  {
   "cell_type": "code",
   "execution_count": 120,
   "metadata": {
    "deletable": false,
    "editable": false
   },
   "outputs": [
    {
     "data": {
      "text/html": [
       "<p><strong><pre style='display: inline;'>q2.1</pre></strong> passed! 🚀</p>"
      ],
      "text/plain": [
       "q2.1 results: All test cases passed!"
      ]
     },
     "execution_count": 120,
     "metadata": {},
     "output_type": "execute_result"
    }
   ],
   "source": [
    "grader.check(\"q2.1\")"
   ]
  },
  {
   "cell_type": "markdown",
   "metadata": {
    "deletable": false,
    "editable": false
   },
   "source": [
    "---\n",
    "#### **Task 2**\n",
    "\n",
    "After constructing the transition system for the **Farmer-Wolf-Goat-Cabbage (FWGC) problem**, the next task is to find the shortest valid sequence of moves that leads from the **initial state** (`\"LLLL\"`) to the **solution state** (`\"RRRR\"`).\n",
    "\n",
    "Implement the function:\n"
   ]
  },
  {
   "cell_type": "code",
   "execution_count": 102,
   "metadata": {
    "ExecuteTime": {
     "end_time": "2025-03-17T13:21:51.788508Z",
     "start_time": "2025-03-17T13:21:51.785627Z"
    },
    "tags": [
     "otter_answer_cell"
    ]
   },
   "outputs": [],
   "source": [
    "from typing import List\n",
    "from queue import Queue\n",
    "\n",
    "class Node:\n",
    "    def __init__(self, state:str, prev:Optional[\"Node\"], action:Optional[str]):\n",
    "        self.state = state\n",
    "        self.prev = prev\n",
    "        self.action = action\n",
    "        \n",
    "def reconstract_path(node:Node)->List[str]:\n",
    "    path = []\n",
    "    while node.prev is not None:\n",
    "        path.append(node.action)\n",
    "        node = node.prev\n",
    "    return path[::-1]\n",
    "\n",
    "def find_minimal_solution(ts: TransitionSystem) -> List[str]:\n",
    "    q:Queue[Node] = Queue()\n",
    "    visited = set()\n",
    "    state_node = None\n",
    "    for state_node in ts.I:\n",
    "        q.put(Node(state_node, None, \"\"))\n",
    "    while not q.empty():\n",
    "        state_node = q.get()\n",
    "        state = state_node.state\n",
    "        if state in visited:\n",
    "            continue\n",
    "        visited.add(state)\n",
    "        if \"solution\" in ts.L(state):\n",
    "            break\n",
    "        if ts.L(state_node.state) == {\"unsafe\"}:\n",
    "            continue\n",
    "        for action in ts.Act:\n",
    "            successors = ts.post(state, action)\n",
    "            for succ in successors:\n",
    "                q.put(Node(succ, state_node, action))\n",
    "                \n",
    "    if state_node is None:\n",
    "        return []\n",
    "    if \"solution\" not in ts.L(state_node.state):\n",
    "        return []\n",
    "    return reconstract_path(state_node)\n",
    "        \n",
    "         "
   ]
  },
  {
   "cell_type": "markdown",
   "metadata": {
    "deletable": false,
    "editable": false
   },
   "source": [
    "which takes a **TransitionSystem** object and returns the **shortest sequence of actions** leading to the solution.\n",
    "\n",
    "Your implementation should:\n",
    "1. **Use BFS**: Since BFS explores all shortest paths first, it guarantees finding the minimal solution.\n",
    "2. **Track visited states**: Ensure states are not revisited unnecessarily.\n",
    "3. **Store the path**: Maintain the sequence of actions taken to reach each state.\n",
    "4. **Stop at the solution**: If a state labeled `\"solution\"` is found, return the corresponding action sequence.\n",
    "\n",
    "---\n",
    "#### **Proposed structure for your function**\n",
    "- Use a **queue** initialized with the starting state `\"LLLL\"` and an empty action path.\n",
    "- Iteratively expand each state:\n",
    "  - If the state has the `\"solution\"` label, return the path.\n",
    "  - If it hasn’t been visited, mark it as visited.\n",
    "  - Add all valid transitions to the queue, extending the path with the corresponding action.\n",
    "- If no solution is found, raise an error.\n",
    "\n",
    "---\n",
    "#### **Example Execution**\n",
    "```python\n",
    "ts = create_fwgc_transition_system()\n",
    "solution = find_minimal_solution(ts)\n",
    "print(solution)\n",
    "```\n",
    "**Expected Output (one possible minimal path)**:\n",
    "```python\n",
    "[\"with_goat\", \"alone\", \"with_wolf\", \"with_goat\", \"with_cabbage\", \"alone\", \"with_goat\"]\n",
    "```\n",
    "(The order might vary depending on transition order in the `TransitionSystem`.)"
   ]
  },
  {
   "cell_type": "code",
   "execution_count": 119,
   "metadata": {
    "deletable": false,
    "editable": false
   },
   "outputs": [
    {
     "data": {
      "text/html": [
       "<p><strong><pre style='display: inline;'>q2.2</pre></strong> passed! ✨</p>"
      ],
      "text/plain": [
       "q2.2 results: All test cases passed!"
      ]
     },
     "execution_count": 119,
     "metadata": {},
     "output_type": "execute_result"
    }
   ],
   "source": [
    "grader.check(\"q2.2\")"
   ]
  },
  {
   "cell_type": "code",
   "execution_count": 126,
   "metadata": {},
   "outputs": [
    {
     "name": "stdout",
     "output_type": "stream",
     "text": [
      "['with_goat', 'alone', 'with_cabbage', 'with_goat', 'with_wolf', 'alone', 'with_goat']\n",
      "RRLL\n",
      "unsafe\n",
      "LLRL\n",
      "RLLL\n",
      "unsafe\n",
      "RRRL\n",
      "RLRL\n",
      "LRRR\n",
      "unsafe\n",
      "RLRR\n",
      "RRRR\n",
      "solution\n",
      "LRLL\n",
      "LLLL\n",
      "RRLR\n",
      "LLRR\n",
      "unsafe\n",
      "LLLR\n",
      "LRLR\n",
      "RLLR\n",
      "unsafe\n",
      "LRRL\n",
      "unsafe\n"
     ]
    },
    {
     "data": {
      "image/png": "[encoded data removed]",
      "text/plain": [
       "<Figure size 1000x600 with 1 Axes>"
      ]
     },
     "metadata": {},
     "output_type": "display_data"
    }
   ],
   "source": [
    "ts = create_fwgc_transition_system()\n",
    "minimal_solution = find_minimal_solution(ts)\n",
    "print(minimal_solution)\n",
    "ts.plot()"
   ]
  },
  {
   "cell_type": "markdown",
   "metadata": {
    "deletable": false,
    "editable": false
   },
   "source": [
    "## Submission\n",
    "\n",
    "Make sure you have run all cells in your notebook in order before running the cell below, so that all images/graphs appear in the output. The cell below will generate a zip file for you to submit. **Please save before exporting!**"
   ]
  },
  {
   "cell_type": "code",
   "execution_count": 118,
   "metadata": {
    "deletable": false,
    "editable": false
   },
   "outputs": [
    {
     "data": {
      "text/html": [
       "\n",
       "                    <p>\n",
       "                        Your submission has been exported. Click\n",
       "                        <a href=\"HW1_2025_03_22T11_53_58_789559.zip\" download=\"HW1_2025_03_22T11_53_58_789559.zip\" target=\"_blank\">here</a> to download\n",
       "                        the zip file.\n",
       "                    </p>\n",
       "                "
      ],
      "text/plain": [
       "<IPython.core.display.HTML object>"
      ]
     },
     "metadata": {},
     "output_type": "display_data"
    }
   ],
   "source": [
    "# Save your notebook first, then run this cell to export your submission.\n",
    "grader.export(pdf=False)"
   ]
  },
  {
   "cell_type": "markdown",
   "metadata": {},
   "source": [
    " "
   ]
  }
 ],
 "metadata": {
  "kernelspec": {
   "display_name": "BGU",
   "language": "python",
   "name": "python3"
  },
  "language_info": {
   "codemirror_mode": {
    "name": "ipython",
    "version": 3
   },
   "file_extension": ".py",
   "mimetype": "text/x-python",
   "name": "python",
   "nbconvert_exporter": "python",
   "pygments_lexer": "ipython3",
   "version": "3.12.2"
  },
  "otter": {
   "OK_FORMAT": true,
   "assignment_name": "hw01,",
   "tests": {
    "q1": {
     "name": "q1",
     "points": null,
     "suites": [
      {
       "cases": [
        {
         "code": ">>> def create_vending_machine():\n...     return TransitionSystem().add_atomic_proposition('has_drink', 'paid').add_state('ready', 'wait', 'done').add_action('coin', 'coffee', 'tea').add_initial_state('ready').add_label('wait', 'paid').add_label('done', 'has_drink', 'paid').add_transition(('ready', 'coin', 'wait'), ('wait', 'coffee', 'done'), ('wait', 'tea', 'done'))\n>>> def verify_vending_machine(ts):\n...     assert len(ts.S) == 3, f'Expected 3 states, but got {len(ts.S)}'\n...     assert len(ts.Act) == 3, f'Expected 3 actions, but got {len(ts.Act)}'\n...     assert len(ts.Transitions) == 3, f'Expected 3 transitions, but got {len(ts.Transitions)}'\n...     assert len(ts.I) == 1, f'Expected 1 initial state, but got {len(ts.I)}'\n...     assert len(ts.AP) == 2, f'Expected 2 atomic propositions, but got {len(ts.AP)}'\n...     assert 'ready' in ts.S, \"'ready' state is missing\"\n...     assert 'wait' in ts.S, \"'wait' state is missing\"\n...     assert 'done' in ts.S, \"'done' state is missing\"\n...     assert 'coin' in ts.Act, \"'coin' action is missing\"\n...     assert 'coffee' in ts.Act, \"'coffee' action is missing\"\n...     assert 'tea' in ts.Act, \"'tea' action is missing\"\n...     assert ('ready', 'coin', 'wait') in ts.Transitions, \"Transition ('ready', 'coin', 'wait') is missing\"\n...     assert ('wait', 'coffee', 'done') in ts.Transitions, \"Transition ('wait', 'coffee', 'done') is missing\"\n...     assert ('wait', 'tea', 'done') in ts.Transitions, \"Transition ('wait', 'tea', 'done') is missing\"\n...     assert ts.L('ready') == set(), \"Labels for 'ready' state are incorrect\"\n...     assert ts.L('wait') == {'paid'}, \"Labels for 'wait' state are incorrect\"\n...     assert ts.L('done') == {'has_drink', 'paid'}, \"Labels for 'done' state are incorrect\"\n...     assert 'ready' in ts.I, \"'ready' is not an initial state\"\n...     assert 'has_drink' in ts.AP, \"'has_drink' atomic proposition is missing\"\n...     assert 'paid' in ts.AP, \"'paid' atomic proposition is missing\"\n...     print('All vending machine transition system tests passed successfully!')\n>>> verify_vending_machine(create_vending_machine())\nAll vending machine transition system tests passed successfully!\n",
         "hidden": false,
         "locked": false
        },
        {
         "code": ">>> def test_add_transition_validation():\n...     ts = TransitionSystem()\n...     ts.add_state('s1', 's2')\n...     ts.add_action('a1')\n...     try:\n...         ts.add_transition(('s1', 'a1', 's3'))\n...         assert False, 'Should raise ValueError for invalid to_state'\n...     except ValueError as e:\n...         assert str(e) == 'State s3 is not in the transition system.'\n...     try:\n...         ts.add_transition(('s3', 'a1', 's2'))\n...         assert False, 'Should raise ValueError for invalid from_state'\n...     except ValueError as e:\n...         assert str(e) == 'State s3 is not in the transition system.'\n...     try:\n...         ts.add_transition(('s1', 'a2', 's2'))\n...         assert False, 'Should raise ValueError for invalid action'\n...     except ValueError as e:\n...         assert str(e) == 'Action a2 is not in the transition system.'\n>>> def test_add_initial_state_validation():\n...     ts = TransitionSystem()\n...     ts.add_state('s1')\n...     try:\n...         ts.add_initial_state('s2')\n...         assert False, 'Should raise ValueError for invalid state'\n...     except ValueError as e:\n...         assert str(e) == 'Initial state s2 must be in the transition system.'\n>>> def test_add_label_validation():\n...     ts = TransitionSystem()\n...     ts.add_state('s1')\n...     ts.add_atomic_proposition('ap1')\n...     try:\n...         ts.add_label('s2', 'ap1')\n...         assert False, 'Should raise ValueError for invalid state'\n...     except ValueError as e:\n...         assert str(e) == 'Cannot set labels for s2. State is not in the transition system.'\n...     try:\n...         ts.add_label('s1', 'ap2')\n...         assert False, 'Should raise ValueError for invalid atomic proposition'\n...     except ValueError as e:\n...         assert str(e) == \"Cannot assign labels {'ap2'}. They are not in the set of atomic propositions (AP).\"\n>>> def test_get_labels_validation():\n...     ts = TransitionSystem()\n...     ts.add_state('s1')\n...     try:\n...         ts.L('s2')\n...         assert False, 'Should raise ValueError for invalid state'\n...     except ValueError as e:\n...         assert str(e) == 'State s2 is not in the transition system.'\n>>> test_add_transition_validation()\n>>> test_add_initial_state_validation()\n>>> test_add_label_validation()\n>>> test_get_labels_validation()\n>>> print('All tests passed successfully!')\nAll tests passed successfully!\n",
         "hidden": false,
         "locked": false
        },
        {
         "code": ">>> def test_add_existing_state():\n...     ts = TransitionSystem()\n...     ts.add_state('s1')\n...     ts.add_state('s1')\n...     assert len(ts.S) == 1, 'Duplicate state was added'\n>>> def test_add_existing_action():\n...     ts = TransitionSystem()\n...     ts.add_action('a1')\n...     ts.add_action('a1')\n...     assert len(ts.Act) == 1, 'Duplicate action was added'\n>>> def test_add_existing_atomic_proposition():\n...     ts = TransitionSystem()\n...     ts.add_atomic_proposition('ap1')\n...     ts.add_atomic_proposition('ap1')\n...     assert len(ts.AP) == 1, 'Duplicate atomic proposition was added'\n>>> def test_add_existing_initial_state():\n...     ts = TransitionSystem()\n...     ts.add_state('s1')\n...     ts.add_initial_state('s1')\n...     ts.add_initial_state('s1')\n...     assert len(ts.I) == 1, 'Duplicate initial state was added'\n>>> def test_add_existing_label():\n...     ts = TransitionSystem()\n...     ts.add_state('s1')\n...     ts.add_atomic_proposition('ap1')\n...     ts.add_label('s1', 'ap1')\n...     ts.add_label('s1', 'ap1')\n...     assert len(ts.L('s1')) == 1, 'Duplicate label was added'\n>>> def test_add_similar_names():\n...     ts = TransitionSystem()\n...     ts.add_state('s1')\n...     ts.add_state('s1 ')\n...     assert len(ts.S) == 2, 'State with similar name was not added'\n...     ts.add_action('a1')\n...     ts.add_action('a1 ')\n...     assert len(ts.Act) == 2, 'Action with similar name was not added'\n...     ts.add_atomic_proposition('ap1')\n...     ts.add_atomic_proposition('ap1 ')\n...     assert len(ts.AP) == 2, 'Atomic proposition with similar name was not added'\n>>> test_add_existing_state()\n>>> test_add_existing_action()\n>>> test_add_existing_atomic_proposition()\n>>> test_add_existing_initial_state()\n>>> test_add_existing_label()\n>>> test_add_similar_names()\n>>> print('All tests passed successfully!')\nAll tests passed successfully!\n",
         "hidden": false,
         "locked": false
        },
        {
         "code": ">>> def test_post_pre_functions():\n...     test_ts = TransitionSystem()\n...     states = {'s1', 's2', 's3'}\n...     for s in states:\n...         test_ts.add_state(s)\n...     actions = {'a', 'b'}\n...     for action in actions:\n...         test_ts.add_action(action)\n...     transitions = {('s1', 'a', 's2'), ('s2', 'b', 's3'), ('s3', 'a', 's1')}\n...     for t in transitions:\n...         test_ts.add_transition(t)\n...     assert test_ts.post('s1', 'a') == {'s2'}, 'post(s1, a) should be {s2}'\n...     assert test_ts.post('s2', 'b') == {'s3'}, 'post(s2, b) should be {s3}'\n...     assert test_ts.post('s1', 'b') == set(), 'post(s1, b) should be empty'\n...     assert test_ts.post('s1') == {'s2'}, 'post(s1) should be {s2}'\n...     assert test_ts.post('s2') == {'s3'}, 'post(s2) should be {s3}'\n...     assert test_ts.post('s3') == {'s1'}, 'post(s3) should be {s1}'\n...     assert test_ts.pre('s2', 'a') == {'s1'}, 'pre(s2, a) should be {s1}'\n...     assert test_ts.pre('s3', 'b') == {'s2'}, 'pre(s3, b) should be {s2}'\n...     assert test_ts.pre('s2', 'b') == set(), 'pre(s2, b) should be empty'\n...     assert test_ts.pre('s1') == {'s3'}, 'pre(s1) should be {s3}'\n...     assert test_ts.pre('s2') == {'s1'}, 'pre(s2) should be {s1}'\n...     assert test_ts.pre('s3') == {'s2'}, 'pre(s3) should be {s2}'\n...     assert test_ts.post({'s1', 's2'}, 'a') == {'s2'}, 'post_set({s1,s2}, a) should be {s2}'\n...     assert test_ts.post({'s2', 's3'}, 'b') == {'s3'}, 'post_set({s2,s3}, b) should be {s3}'\n...     assert test_ts.post({'s1', 's2'}) == {'s2', 's3'}, 'post_set({s1,s2}) should be {s2,s3}'\n...     assert test_ts.post({'s2', 's3'}) == {'s3', 's1'}, 'post_set({s2,s3}) should be {s3,s1}'\n...     assert test_ts.pre({'s1', 's2'}, 'a') == {'s1', 's3'}, 'pre_set({s1,s2}, a) should be {s1,s3}'\n...     assert test_ts.pre({'s2', 's3'}, 'b') == {'s2'}, 'pre_set({s2,s3}, b) should be {s2}'\n...     assert test_ts.pre({'s1', 's2'}) == {'s1', 's3'}, 'pre_set({s1,s2}) should be {s1,s3}'\n...     assert test_ts.pre({'s2', 's3'}) == {'s1', 's2'}, 'pre_set({s2,s3}) should be {s1,s2}'\n...     print('All post/pre functions tests passed successfully!')\n>>> test_post_pre_functions()\nAll post/pre functions tests passed successfully!\n",
         "hidden": false,
         "locked": false
        }
       ],
       "scored": true,
       "setup": "",
       "teardown": "",
       "type": "doctest"
      }
     ]
    },
    "q2.1": {
     "name": "q2.1",
     "points": null,
     "suites": [
      {
       "cases": [
        {
         "code": ">>> def test_fwgc_transition_system():\n...     ts = create_fwgc_transition_system()\n...     assert len(ts.S) == 16, f'Expected 16 states, got {len(ts.S)}'\n...     assert len(ts.Act) == 4, f'Expected 4 actions, got {len(ts.Act)}'\n...     assert len(ts.AP) == 2, f'Expected 2 atomic propositions, got {len(ts.AP)}'\n...     assert len(ts.I) == 1, f'Expected 1 initial state, got {len(ts.I)}'\n...     assert 'LLLL' in ts.I, 'LLLL should be the initial state'\n...     unsafe_states = ['LLRR', 'RLLR', 'LRRL', 'RRLL']\n...     for state in unsafe_states:\n...         assert 'unsafe' in ts.L(state), f'State {state} should be labeled unsafe'\n...     assert 'solution' in ts.L('RRRR'), f'RRRR should be labeled as solution'\n...     valid_transitions = [('LLLL', 'with_goat', 'RLRL'), ('LLRL', 'alone', 'RLRL'), ('LLRL', 'with_wolf', 'RRRL')]\n...     for (from_state, action, to_state) in valid_transitions:\n...         assert (from_state, action, to_state) in ts.Transitions, f'Missing transition: {from_state} -{action}-> {to_state}'\n...     unsafe_transitions = [('LLLL', 'with_wolf', 'RRLL'), ('LLLL', 'with_cabbage', 'RLLR')]\n...     for (from_state, action, to_state) in unsafe_transitions:\n...         assert (from_state, action, to_state) not in ts.Transitions, f'Unsafe transition should not exist: {from_state} -{action}-> {to_state}'\n...     print('All FWGC transition system tests passed successfully!')\n>>> test_fwgc_transition_system()\nAll FWGC transition system tests passed successfully!\n",
         "hidden": false,
         "locked": false
        }
       ],
       "scored": true,
       "setup": "",
       "teardown": "",
       "type": "doctest"
      }
     ]
    },
    "q2.2": {
     "name": "q2.2",
     "points": null,
     "suites": [
      {
       "cases": [
        {
         "code": ">>> min_moves = find_minimal_solution(create_fwgc_transition_system())\n>>> assert tuple(min_moves) in {tuple(['with_goat', 'alone', 'with_wolf', 'with_goat', 'with_cabbage', 'alone', 'with_goat']), tuple(['with_goat', 'alone', 'with_cabbage', 'with_goat', 'with_wolf', 'alone', 'with_goat'])}, f'Unexpected solution: {min_moves}'\n",
         "hidden": false,
         "locked": false
        }
       ],
       "scored": true,
       "setup": "",
       "teardown": "",
       "type": "doctest"
      }
     ]
    }
   }
  }
 },
 "nbformat": 4,
 "nbformat_minor": 0
}
